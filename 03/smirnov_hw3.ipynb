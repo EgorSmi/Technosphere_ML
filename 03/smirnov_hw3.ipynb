{
 "cells": [
  {
   "cell_type": "markdown",
   "metadata": {},
   "source": [
    "### Алгоритмы интеллектуальной обработки больших объемов данных\n",
    "## Домашнее задание №3 - Дерево решений\n"
   ]
  },
  {
   "cell_type": "markdown",
   "metadata": {},
   "source": [
    "**Общая информация**\n",
    "\n",
    "**Срок сдачи:** 08 декабря 2020, 08:30   \n",
    "**Штраф за опоздание:** -2 балла после 08:30 08 декабря, -4 балла после 08:30 15 декабря, -6 баллов после 08:30 22 декабря, -8 баллов после 08:30 29 декабря.\n",
    "\n",
    "При отправлении ДЗ указывайте фамилию в названии файла Присылать ДЗ необходимо в виде ссылки на свой github репозиторий на почту ml1.sphere@mail.ru с указанием темы в следующем формате:\n",
    "[ML0220, Задание 3] Фамилия Имя. \n",
    "\n",
    "\n",
    "Используйте данный Ipython Notebook при оформлении домашнего задания."
   ]
  },
  {
   "cell_type": "markdown",
   "metadata": {},
   "source": [
    "##  Реализуем дерево решений (3 балла)"
   ]
  },
  {
   "cell_type": "markdown",
   "metadata": {},
   "source": [
    "Допишите недостающие части дерева решений. Ваша реализация дерева должна работать по точности не хуже DecisionTreeClassifier из sklearn.\n",
    "Внимание: если Вас не устраивает предложенная структура хранения дерева, Вы без потери баллов можете сделать свой класс DecisionTreeClassifier, в котором сами полностью воспроизведете алгоритм дерева решений. Обязательно в нем иметь только функции fit, predict"
   ]
  },
  {
   "cell_type": "code",
   "execution_count": 1,
   "metadata": {},
   "outputs": [],
   "source": [
    "import matplotlib.pyplot as plt\n",
    "import numpy as np\n",
    "import pandas as pd\n",
    "\n",
    "from sklearn.datasets import load_wine\n",
    "from sklearn.ensemble import RandomForestClassifier\n",
    "from sklearn.metrics import accuracy_score\n",
    "from sklearn.metrics import f1_score\n",
    "from sklearn.metrics import roc_auc_score\n",
    "from sklearn.model_selection import KFold, train_test_split, GridSearchCV, RandomizedSearchCV\n",
    "from sklearn.tree import DecisionTreeClassifier\n",
    "from sklearn.base import BaseEstimator, ClassifierMixin"
   ]
  },
  {
   "cell_type": "code",
   "execution_count": 2,
   "metadata": {},
   "outputs": [],
   "source": [
    "class MyDecisionTreeClassifier(BaseEstimator, ClassifierMixin):\n",
    "    NON_LEAF_TYPE = 0\n",
    "    LEAF_TYPE = 1\n",
    "\n",
    "    def __init__(self, min_samples_split=2, max_depth=5, criterion='gini'):\n",
    "        \"\"\"\n",
    "        criterion -- критерий расщепления. необходимо релизовать три:\n",
    "        Ошибка классификации, Индекс Джини, Энтропийный критерий\n",
    "        max_depth -- максимальная глубина дерева\n",
    "        min_samples_split -- минимальное число объектов в листе, чтобы сделать новый сплит\n",
    "        \"\"\"\n",
    "        self.min_samples_split = min_samples_split\n",
    "        self.max_depth = max_depth\n",
    "        self.num_class = -1\n",
    "        \n",
    "        # Для последнего задания\n",
    "        self.feature_importances_ = None\n",
    "        self.criterion = criterion\n",
    "        # Структура, которая описывает дерево\n",
    "        # Представляет словарь, где для  node_id (айдишник узла дерева) храним\n",
    "        # (тип_узла, айдишник признака сплита, порог сплита) если тип NON_LEAF_TYPE\n",
    "        # (тип_узла, предсказание класса, вероятность класса) если тип LEAF_TYPE\n",
    "        # Подразумевается, что у каждого node_id в дереве слева \n",
    "        # узел с айди 2 * node_id + 1, а справа 2 * node_id + 2\n",
    "        self.tree = dict()\n",
    "        if criterion == 'gini':\n",
    "            self.inform_crit = self.gini\n",
    "        elif criterion == 'entropy':\n",
    "            self.inform_crit = self.entropy\n",
    "        elif criterion == 'misclass':\n",
    "            self.inform_crit = self.misclass\n",
    "            \n",
    "    def misclass(self, p):\n",
    "        return 1 - p.max(axis=1);\n",
    "    \n",
    "    def entropy(self, p):\n",
    "        return - np.sum(p * np.log2(p + 0.00001), axis=1)\n",
    "    \n",
    "    def gini(self, p):\n",
    "        return 1 - np.sum(p ** 2, axis=1)\n",
    "\n",
    "    def __div_samples(self, x, y, feature_id, threshold):\n",
    "        \"\"\"\n",
    "        Разделяет объекты на 2 множества\n",
    "        x -- матрица объектов\n",
    "        y -- вектор ответов\n",
    "        feature_id -- айдишник признака, по которому делаем сплит\n",
    "        threshold -- порог, по которому делаем сплит\n",
    "        \"\"\"\n",
    "        left_mask = x[:, feature_id] > threshold\n",
    "        right_mask = ~left_mask\n",
    "        return x[left_mask], x[right_mask], y[left_mask], y[right_mask]\n",
    "\n",
    "    def __find_threshold(self, x, y):\n",
    "        \"\"\"\n",
    "        Находим оптимальный признак и порог для сплита\n",
    "        Здесь используемые разные impurity в зависимости от self.criterion\n",
    "        \"\"\"\n",
    "        # x - значения по признаку\n",
    "        # сортируем Х и y\n",
    "        sorted_indices = x.argsort()\n",
    "        X_sort, y_sort = x[sorted_indices], y[sorted_indices]\n",
    "        borders = int(self.min_samples_split / 2 - 1)\n",
    "        #отсекаем объекты, по которым точно не пройдет граница разбиения\n",
    "        if (borders != 0):\n",
    "            y_borders = y_sort[borders: -borders]\n",
    "        else:\n",
    "            y_borders = y_sort\n",
    "        #к индексам, в которых меняется метка класса, добавляем смещение, которое посчитали\n",
    "        indices = np.where(y_borders[:-1] != y_borders[1:])[0] + (borders + 1)\n",
    "        if len(indices) == 0:\n",
    "            return np.inf, None # нет сменяемости класса вообще\n",
    "        \n",
    "        eq_count = indices - np.append([borders], indices[:-1])\n",
    "        one_hot_code = np.zeros((indices.shape[0], self.num_class)) # строки - границы, столбцы - классы\n",
    "        one_hot_code[np.arange(indices.shape[0]), y_sort[indices - 1]] = 1\n",
    "\n",
    "        class_increments = one_hot_code * eq_count.reshape(-1, 1)\n",
    "        class_increments[0] = class_increments[0] + np.bincount(y_sort[:borders], minlength=self.num_class)\n",
    "\n",
    "        # количество классов слева и справа в разбиении \n",
    "        l_class_cnt = np.cumsum(class_increments, axis=0)\n",
    "        r_class_cnt = np.bincount(y_sort, minlength=self.num_class) - l_class_cnt\n",
    "\n",
    "        # количество объектов слева и справа в разбиении\n",
    "        l_sizes = indices.reshape(l_class_cnt.shape[0], 1)\n",
    "        r_sizes = y_sort.shape[0] - l_sizes\n",
    "\n",
    "        unsertainty_l = self.inform_crit(l_class_cnt / l_sizes) * (l_sizes / (l_sizes+r_sizes)).T\n",
    "        unsertainty_r = self.inform_crit(r_class_cnt / r_sizes) * (r_sizes / (l_sizes+r_sizes)).T\n",
    "        unsertainty = unsertainty_l.T + unsertainty_r.T\n",
    "\n",
    "        idx = np.argmin(unsertainty)\n",
    "        \n",
    "        start_idx = l_sizes[idx][0] # индекс с которого начинается граница\n",
    "        \n",
    "        # мера неопределенности и порог\n",
    "        return unsertainty[idx], (X_sort[start_idx - 1] + X_sort[start_idx]) / 2.0\n",
    "\n",
    "    def __fit_node(self, x, y, node_id, depth):\n",
    "        \"\"\"\n",
    "        Делаем новый узел в дереве\n",
    "        Решаем, терминальный он или нет\n",
    "        Если нет, то строим левый узел  с айди 2 * node_id + 1\n",
    "        И правый узел с  айди 2 * node_id + 2\n",
    "        \"\"\"\n",
    "        if ((len(y) < self.min_samples_split) or (depth >= self.max_depth)):\n",
    "            self.tree[node_id] = (self.LEAF_TYPE, np.bincount(y).argmax(), np.bincount(y).astype(float) / len(y))\n",
    "            return\n",
    "        \n",
    "        thresholds = np.array([self.__find_threshold(x[:, i], y) for i in range(x.shape[1])])\n",
    "\n",
    "        feature_id = thresholds[:, 0].argmin()\n",
    "        threshold = thresholds[feature_id, 1]\n",
    "        \n",
    "        if threshold == None:\n",
    "            self.tree[node_id] = (self.LEAF_TYPE, np.bincount(y).argmax(), np.bincount(y).astype(float) / len(y))\n",
    "        else:\n",
    "            X_l, X_r, y_l, y_r = self.__div_samples(x, y, feature_id, threshold)\n",
    "            if ((len(X_l) == 0) or (len(X_r) == 0)):\n",
    "                self.tree[node_id] = (self.LEAF_TYPE, np.bincount(y).argmax(), np.bincount(y).astype(float) / len(y))\n",
    "            else:\n",
    "                self.tree[node_id] = (self.NON_LEAF_TYPE, feature_id, threshold)\n",
    "                self.__fit_node(X_l, y_l, 2 * node_id + 1, depth + 1)\n",
    "                self.__fit_node(X_r, y_r, 2 * node_id + 2, depth + 1)\n",
    "            if self.criterion == 'misclass':\n",
    "                uncert = (1 - np.max(np.sum(np.unique(y, return_counts=True)[1] / len(y))))\n",
    "                uncert_l = (1 - np.max(np.sum(np.unique(y_l, return_counts=True)[1] / len(y))))\n",
    "                uncert_r = (1 - np.max(np.sum(np.unique(y_r, return_counts=True)[1] / len(y))))\n",
    "                self.feature_importances_[feature_id] += (len(y) * uncert - len(y_l)\n",
    "                                                          * uncert_l - len(y_r) * uncert_r) / len(y)\n",
    "            elif self.criterion == 'gini':\n",
    "                uncert = (1 - np.sum(np.unique(y, return_counts=True)[1] ** 2 / len(y) ** 2))\n",
    "                uncert_l = (1 - np.sum(np.unique(y_l, return_counts=True)[1] ** 2 / len(y_l) ** 2))\n",
    "                uncert_r = (1 - np.sum(np.unique(y_r, return_counts=True)[1] ** 2 / len(y_r) ** 2))\n",
    "                self.feature_importances_[feature_id] += (len(y) * uncert - len(y_l)\n",
    "                                                          * uncert_l - len(y_r) * uncert_r) / len(y)\n",
    "            elif self.criterion == 'entropy':\n",
    "                uncert = - (np.sum((np.unique(y, return_counts=True)[1] / len(y)) \n",
    "                                   * np.log2(np.unique(y, return_counts=True)[1] / len(y))))\n",
    "                uncert_l = - (np.sum((np.unique(y_l, return_counts=True)[1] / len(y_l))\n",
    "                                     * np.log2(np.unique(y_l, return_counts=True)[1] / len(y_l))))\n",
    "                uncert_r = - (np.sum((np.unique(y_r, return_counts=True)[1] / len(y_r))\n",
    "                                     * np.log2(np.unique(y_r, return_counts=True)[1] / len(y_r))))\n",
    "                self.feature_importances_[feature_id] += (len(y) * uncert - len(y_l)\n",
    "                                                          * uncert_l - len(y_r) * uncert_r) / len(y)\n",
    "    \n",
    "    def fit(self, x, y):\n",
    "        \"\"\"\n",
    "        Рекурсивно строим дерево решений\n",
    "        Начинаем с корня node_id 0\n",
    "        \"\"\"\n",
    "        self.feature_importances_ = np.zeros(x.shape[1], dtype='float')\n",
    "        self.num_class = np.unique(y).size\n",
    "        self.__fit_node(x, y, 0, 0) \n",
    "\n",
    "    def __predict_class(self, x, node_id):\n",
    "        \"\"\"\n",
    "        Рекурсивно обходим дерево по всем узлам,\n",
    "        пока не дойдем до терминального\n",
    "        \"\"\"\n",
    "        node = self.tree[node_id]\n",
    "        if node[0] == self.__class__.NON_LEAF_TYPE:\n",
    "            _, feature_id, threshold = node\n",
    "            if x[feature_id] > threshold:\n",
    "                return self.__predict_class(x, 2 * node_id + 1)\n",
    "            else:\n",
    "                return self.__predict_class(x, 2 * node_id + 2)\n",
    "        else:\n",
    "            return node[1]\n",
    "        \n",
    "    def predict(self, X):\n",
    "        \"\"\"\n",
    "        Вызывает predict для всех объектов из матрицы X\n",
    "        \"\"\"\n",
    "        return np.array([self.__predict_class(x, 0) for x in X])\n",
    "    \n",
    "    def fit_predict(self, x_train, y_train, predicted_x):\n",
    "        self.fit(x_train, y_train)\n",
    "        return self.predict(predicted_x)\n",
    "    \n",
    "    def get_feature_importance(self):\n",
    "        \"\"\"\n",
    "        Возвращает важность признаков\n",
    "        \"\"\"\n",
    "        return self.feature_importances_"
   ]
  },
  {
   "cell_type": "code",
   "execution_count": 3,
   "metadata": {},
   "outputs": [],
   "source": [
    "my_clf = MyDecisionTreeClassifier(min_samples_split=2)\n",
    "clf = DecisionTreeClassifier(min_samples_split=2)"
   ]
  },
  {
   "cell_type": "code",
   "execution_count": 34,
   "metadata": {},
   "outputs": [],
   "source": [
    "wine = load_wine()\n",
    "X_train, X_test, y_train, y_test = train_test_split(wine.data, wine.target, test_size=0.1, stratify=wine.target)"
   ]
  },
  {
   "cell_type": "code",
   "execution_count": 35,
   "metadata": {},
   "outputs": [],
   "source": [
    "clf.fit(X_train, y_train)\n",
    "my_clf.fit(X_train, y_train)"
   ]
  },
  {
   "cell_type": "code",
   "execution_count": 36,
   "metadata": {
    "scrolled": true
   },
   "outputs": [
    {
     "data": {
      "text/plain": [
       "0.9444444444444444"
      ]
     },
     "execution_count": 36,
     "metadata": {},
     "output_type": "execute_result"
    }
   ],
   "source": [
    "accuracy_score(y_pred=clf.predict(X_test), y_true=y_test)"
   ]
  },
  {
   "cell_type": "code",
   "execution_count": 37,
   "metadata": {},
   "outputs": [
    {
     "data": {
      "text/plain": [
       "0.9444444444444444"
      ]
     },
     "execution_count": 37,
     "metadata": {},
     "output_type": "execute_result"
    }
   ],
   "source": [
    "accuracy_score(y_pred=my_clf.predict(X_test), y_true=y_test)"
   ]
  },
  {
   "cell_type": "markdown",
   "metadata": {},
   "source": [
    "## Ускоряем дерево решений (2 балла)\n",
    "Добиться скорости работы на fit не медленнее чем в 10 раз sklearn на данных wine. \n",
    "Для этого используем numpy."
   ]
  },
  {
   "cell_type": "code",
   "execution_count": 40,
   "metadata": {
    "scrolled": true
   },
   "outputs": [
    {
     "name": "stdout",
     "output_type": "stream",
     "text": [
      "CPU times: user 1.67 ms, sys: 718 µs, total: 2.38 ms\n",
      "Wall time: 1.43 ms\n"
     ]
    },
    {
     "data": {
      "text/plain": [
       "DecisionTreeClassifier(ccp_alpha=0.0, class_weight=None, criterion='gini',\n",
       "                       max_depth=None, max_features=None, max_leaf_nodes=None,\n",
       "                       min_impurity_decrease=0.0, min_impurity_split=None,\n",
       "                       min_samples_leaf=1, min_samples_split=2,\n",
       "                       min_weight_fraction_leaf=0.0, presort='deprecated',\n",
       "                       random_state=None, splitter='best')"
      ]
     },
     "execution_count": 40,
     "metadata": {},
     "output_type": "execute_result"
    }
   ],
   "source": [
    "%time clf.fit(X_train, y_train)"
   ]
  },
  {
   "cell_type": "code",
   "execution_count": 41,
   "metadata": {},
   "outputs": [
    {
     "name": "stdout",
     "output_type": "stream",
     "text": [
      "CPU times: user 14.9 ms, sys: 1.4 ms, total: 16.3 ms\n",
      "Wall time: 15 ms\n"
     ]
    }
   ],
   "source": [
    "%time my_clf.fit(X_train, y_train)"
   ]
  },
  {
   "cell_type": "markdown",
   "metadata": {},
   "source": [
    "## Боевое применение (3 балла)\n",
    "\n",
    "На практике Вы познакомились с датасетом Speed Dating Data. В нем каждая пара в быстрых свиданиях характеризуется определенным набором признаков. Задача -- предсказать, произойдет ли матч пары (колонка match). \n",
    "\n",
    "Пример работы с датасетом можете найти в практике пункт 2\n",
    "https://github.com/VVVikulin/ml1.sphere/blob/master/2019-09/lecture_06/pract-trees.ipynb\n",
    "\n",
    "Данные и описания колонок лежат тут\n",
    "https://cloud.mail.ru/public/8nHV/p6J7wY1y1/speed-dating-experiment/"
   ]
  },
  {
   "cell_type": "markdown",
   "metadata": {},
   "source": [
    "Скачайте датасет, обработайте данные, как показано на семинаре или своим собственным способом. Обучите дерево классифкации. В качестве таргета возьмите колонку 'match'. Постарайтесь хорошо обработать признаки, чтобы выбить максимальную точность. Если точность будет близка к случайному гаданию, задание не будет защитано. \n"
   ]
  },
  {
   "cell_type": "code",
   "execution_count": 42,
   "metadata": {},
   "outputs": [],
   "source": [
    "df = pd.read_csv('./data/Speed Dating Data.csv', encoding='latin1')"
   ]
  },
  {
   "cell_type": "code",
   "execution_count": 43,
   "metadata": {},
   "outputs": [
    {
     "data": {
      "text/plain": [
       "(8378, 195)"
      ]
     },
     "execution_count": 43,
     "metadata": {},
     "output_type": "execute_result"
    }
   ],
   "source": [
    "df.shape"
   ]
  },
  {
   "cell_type": "markdown",
   "metadata": {},
   "source": [
    "### Удалим ненужные признаки"
   ]
  },
  {
   "cell_type": "code",
   "execution_count": 44,
   "metadata": {},
   "outputs": [],
   "source": [
    "df = df.iloc[:, :97]"
   ]
  },
  {
   "cell_type": "code",
   "execution_count": 45,
   "metadata": {},
   "outputs": [],
   "source": [
    "df = df.drop(['id', 'idg', 'condtn', 'position', 'positin1', 'round', 'order',\n",
    "             'partner', 'age_o', 'race_o', 'pf_o_att', 'pf_o_sin', 'pf_o_int',\n",
    "              'pf_o_fun', 'pf_o_amb', 'pf_o_sha', 'dec_o', 'attr_o', 'sinc_o', \n",
    "              'intel_o', 'fun_o', 'amb_o', 'shar_o', 'like_o', 'prob_o','met_o', 'field',\n",
    "              'undergra', 'from', 'zipcode','career', 'sports','tvsports','exercise',\n",
    "              'dining','museums','art','hiking','gaming','clubbing','reading','tv',\n",
    "              'theater','movies','concerts','music','shopping','yoga', 'expnum'], axis=1)\n"
   ]
  },
  {
   "cell_type": "markdown",
   "metadata": {},
   "source": [
    "### Предобработка"
   ]
  },
  {
   "cell_type": "code",
   "execution_count": 46,
   "metadata": {},
   "outputs": [
    {
     "data": {
      "text/plain": [
       "0        1\n",
       "1        1\n",
       "2        1\n",
       "3        1\n",
       "4        1\n",
       "5        1\n",
       "6        1\n",
       "7        1\n",
       "8        1\n",
       "9        1\n",
       "10       1\n",
       "11       1\n",
       "12       1\n",
       "13       1\n",
       "14       1\n",
       "15       1\n",
       "16       1\n",
       "17       1\n",
       "18       1\n",
       "19       1\n",
       "20       2\n",
       "21       2\n",
       "22       2\n",
       "23       2\n",
       "24       2\n",
       "25       2\n",
       "26       2\n",
       "27       2\n",
       "28       2\n",
       "29       2\n",
       "        ..\n",
       "8348     8\n",
       "8349     8\n",
       "8350     8\n",
       "8351     8\n",
       "8352     8\n",
       "8353     8\n",
       "8354     8\n",
       "8355     8\n",
       "8356    18\n",
       "8357    18\n",
       "8358    18\n",
       "8359    18\n",
       "8360    18\n",
       "8361    18\n",
       "8362    18\n",
       "8363    18\n",
       "8364    18\n",
       "8365    18\n",
       "8366    18\n",
       "8367    18\n",
       "8368    18\n",
       "8369    18\n",
       "8370    18\n",
       "8371    18\n",
       "8372    18\n",
       "8373    18\n",
       "8374    18\n",
       "8375    18\n",
       "8376    18\n",
       "8377    18\n",
       "Name: field_cd, Length: 8283, dtype: int64"
      ]
     },
     "execution_count": 46,
     "metadata": {},
     "output_type": "execute_result"
    }
   ],
   "source": [
    "df = df.dropna(subset=['age'])\n",
    "df.loc[:, 'field_cd'] = df.loc[:, 'field_cd'].fillna(19)\n",
    "df.field_cd.astype(int)"
   ]
  },
  {
   "cell_type": "code",
   "execution_count": 47,
   "metadata": {},
   "outputs": [
    {
     "data": {
      "text/plain": [
       "342"
      ]
     },
     "execution_count": 47,
     "metadata": {},
     "output_type": "execute_result"
    }
   ],
   "source": [
    "df.drop_duplicates('iid').mn_sat.isnull().sum()"
   ]
  },
  {
   "cell_type": "markdown",
   "metadata": {},
   "source": [
    "Nan решил заменить на минимальную оценку"
   ]
  },
  {
   "cell_type": "code",
   "execution_count": 48,
   "metadata": {},
   "outputs": [],
   "source": [
    "df.loc[:, 'mn_sat'] = df.loc[:, 'mn_sat'].str.replace(',', '').astype(np.float).fillna(1)"
   ]
  },
  {
   "cell_type": "code",
   "execution_count": 49,
   "metadata": {},
   "outputs": [
    {
     "data": {
      "text/plain": [
       "<matplotlib.axes._subplots.AxesSubplot at 0x1210c9898>"
      ]
     },
     "execution_count": 49,
     "metadata": {},
     "output_type": "execute_result"
    },
    {
     "data": {
      "image/png": "[encoded data removed]",
      "text/plain": [
       "<Figure size 432x288 with 1 Axes>"
      ]
     },
     "metadata": {
      "needs_background": "light"
     },
     "output_type": "display_data"
    }
   ],
   "source": [
    "df.drop_duplicates('iid').tuition.hist()"
   ]
  },
  {
   "cell_type": "code",
   "execution_count": 50,
   "metadata": {},
   "outputs": [
    {
     "data": {
      "text/plain": [
       "310"
      ]
     },
     "execution_count": 50,
     "metadata": {},
     "output_type": "execute_result"
    }
   ],
   "source": [
    "df.drop_duplicates('iid').tuition.isnull().sum()"
   ]
  },
  {
   "cell_type": "markdown",
   "metadata": {},
   "source": [
    "Большинство пропусков связано с тем, что университет находится не в штатах, но это тоже не точно как-то. Поэтому я в замешательстве. Возможно, если цена на обучение не указана, значит респондент учится на бюджетной основе, тогда можно заменить Nan на 0. Наверное, это самое логичное.."
   ]
  },
  {
   "cell_type": "code",
   "execution_count": 51,
   "metadata": {},
   "outputs": [],
   "source": [
    "df.loc[:, 'tuition'] = df.loc[:, 'tuition'].str.replace(',', '').astype(np.float).fillna(0)"
   ]
  },
  {
   "cell_type": "markdown",
   "metadata": {},
   "source": [
    "Положим Nan как other"
   ]
  },
  {
   "cell_type": "code",
   "execution_count": 52,
   "metadata": {},
   "outputs": [
    {
     "data": {
      "text/plain": [
       "0       4\n",
       "1       4\n",
       "2       4\n",
       "3       4\n",
       "4       4\n",
       "5       4\n",
       "6       4\n",
       "7       4\n",
       "8       4\n",
       "9       4\n",
       "10      2\n",
       "11      2\n",
       "12      2\n",
       "13      2\n",
       "14      2\n",
       "15      2\n",
       "16      2\n",
       "17      2\n",
       "18      2\n",
       "19      2\n",
       "20      2\n",
       "21      2\n",
       "22      2\n",
       "23      2\n",
       "24      2\n",
       "25      2\n",
       "26      2\n",
       "27      2\n",
       "28      2\n",
       "29      2\n",
       "       ..\n",
       "8348    1\n",
       "8349    1\n",
       "8350    1\n",
       "8351    1\n",
       "8352    1\n",
       "8353    1\n",
       "8354    1\n",
       "8355    1\n",
       "8356    2\n",
       "8357    2\n",
       "8358    2\n",
       "8359    2\n",
       "8360    2\n",
       "8361    2\n",
       "8362    2\n",
       "8363    2\n",
       "8364    2\n",
       "8365    2\n",
       "8366    2\n",
       "8367    2\n",
       "8368    2\n",
       "8369    2\n",
       "8370    2\n",
       "8371    2\n",
       "8372    2\n",
       "8373    2\n",
       "8374    2\n",
       "8375    2\n",
       "8376    2\n",
       "8377    2\n",
       "Name: race, Length: 8283, dtype: int64"
      ]
     },
     "execution_count": 52,
     "metadata": {},
     "output_type": "execute_result"
    }
   ],
   "source": [
    "df.race.fillna(6).astype(int)"
   ]
  },
  {
   "cell_type": "code",
   "execution_count": 53,
   "metadata": {},
   "outputs": [
    {
     "data": {
      "text/plain": [
       "1"
      ]
     },
     "execution_count": 53,
     "metadata": {},
     "output_type": "execute_result"
    }
   ],
   "source": [
    "df.drop_duplicates('iid').imprace.isnull().sum()"
   ]
  },
  {
   "cell_type": "code",
   "execution_count": 54,
   "metadata": {},
   "outputs": [
    {
     "data": {
      "text/plain": [
       "1"
      ]
     },
     "execution_count": 54,
     "metadata": {},
     "output_type": "execute_result"
    }
   ],
   "source": [
    "df.drop_duplicates('iid').imprelig.isnull().sum()"
   ]
  },
  {
   "cell_type": "markdown",
   "metadata": {},
   "source": [
    "Пустых значений мало - просто удалим"
   ]
  },
  {
   "cell_type": "code",
   "execution_count": 55,
   "metadata": {},
   "outputs": [],
   "source": [
    "df = df.dropna(subset=['imprelig', 'imprace'])"
   ]
  },
  {
   "cell_type": "code",
   "execution_count": 56,
   "metadata": {},
   "outputs": [
    {
     "data": {
      "text/plain": [
       "0       69487.0\n",
       "1       69487.0\n",
       "2       69487.0\n",
       "3       69487.0\n",
       "4       69487.0\n",
       "5       69487.0\n",
       "6       69487.0\n",
       "7       69487.0\n",
       "8       69487.0\n",
       "9       69487.0\n",
       "10      65929.0\n",
       "11      65929.0\n",
       "12      65929.0\n",
       "13      65929.0\n",
       "14      65929.0\n",
       "15      65929.0\n",
       "16      65929.0\n",
       "17      65929.0\n",
       "18      65929.0\n",
       "19      65929.0\n",
       "20          NaN\n",
       "21          NaN\n",
       "22          NaN\n",
       "23          NaN\n",
       "24          NaN\n",
       "25          NaN\n",
       "26          NaN\n",
       "27          NaN\n",
       "28          NaN\n",
       "29          NaN\n",
       "         ...   \n",
       "8348    55138.0\n",
       "8349    55138.0\n",
       "8350    55138.0\n",
       "8351    55138.0\n",
       "8352    55138.0\n",
       "8353    55138.0\n",
       "8354    55138.0\n",
       "8355    55138.0\n",
       "8356        NaN\n",
       "8357        NaN\n",
       "8358        NaN\n",
       "8359        NaN\n",
       "8360        NaN\n",
       "8361        NaN\n",
       "8362        NaN\n",
       "8363        NaN\n",
       "8364        NaN\n",
       "8365        NaN\n",
       "8366        NaN\n",
       "8367        NaN\n",
       "8368        NaN\n",
       "8369        NaN\n",
       "8370        NaN\n",
       "8371        NaN\n",
       "8372        NaN\n",
       "8373        NaN\n",
       "8374        NaN\n",
       "8375        NaN\n",
       "8376        NaN\n",
       "8377        NaN\n",
       "Name: income, Length: 8267, dtype: float64"
      ]
     },
     "execution_count": 56,
     "metadata": {},
     "output_type": "execute_result"
    }
   ],
   "source": [
    "df.loc[:, 'income'] = df.loc[:, 'income'].str.replace(',', '').astype(np.float)\n",
    "df.income"
   ]
  },
  {
   "cell_type": "code",
   "execution_count": 57,
   "metadata": {},
   "outputs": [],
   "source": [
    "df.loc[:, 'income'] = df.loc[:, 'income'].fillna(-999)"
   ]
  },
  {
   "cell_type": "code",
   "execution_count": 58,
   "metadata": {},
   "outputs": [
    {
     "data": {
      "text/plain": [
       "0       1\n",
       "1       1\n",
       "2       1\n",
       "3       1\n",
       "4       1\n",
       "5       1\n",
       "6       1\n",
       "7       1\n",
       "8       1\n",
       "9       1\n",
       "10      1\n",
       "11      1\n",
       "12      1\n",
       "13      1\n",
       "14      1\n",
       "15      1\n",
       "16      1\n",
       "17      1\n",
       "18      1\n",
       "19      1\n",
       "20      1\n",
       "21      1\n",
       "22      1\n",
       "23      1\n",
       "24      1\n",
       "25      1\n",
       "26      1\n",
       "27      1\n",
       "28      1\n",
       "29      1\n",
       "       ..\n",
       "8348    3\n",
       "8349    3\n",
       "8350    3\n",
       "8351    3\n",
       "8352    3\n",
       "8353    3\n",
       "8354    3\n",
       "8355    3\n",
       "8356    1\n",
       "8357    1\n",
       "8358    1\n",
       "8359    1\n",
       "8360    1\n",
       "8361    1\n",
       "8362    1\n",
       "8363    1\n",
       "8364    1\n",
       "8365    1\n",
       "8366    1\n",
       "8367    1\n",
       "8368    1\n",
       "8369    1\n",
       "8370    1\n",
       "8371    1\n",
       "8372    1\n",
       "8373    1\n",
       "8374    1\n",
       "8375    1\n",
       "8376    1\n",
       "8377    1\n",
       "Name: go_out, Length: 8249, dtype: int64"
      ]
     },
     "execution_count": 58,
     "metadata": {},
     "output_type": "execute_result"
    }
   ],
   "source": [
    "df.goal.astype(int)\n",
    "df = df.dropna(subset=['date'])\n",
    "df.date.astype(int)\n",
    "df.go_out.astype(int)"
   ]
  },
  {
   "cell_type": "code",
   "execution_count": 59,
   "metadata": {},
   "outputs": [
    {
     "data": {
      "text/plain": [
       "59"
      ]
     },
     "execution_count": 59,
     "metadata": {},
     "output_type": "execute_result"
    }
   ],
   "source": [
    "df.career_c.isnull().sum()"
   ]
  },
  {
   "cell_type": "code",
   "execution_count": 60,
   "metadata": {},
   "outputs": [],
   "source": [
    "df.loc[:, 'career_c'] = df.loc[:, 'career_c'].fillna(18)"
   ]
  },
  {
   "cell_type": "code",
   "execution_count": 61,
   "metadata": {},
   "outputs": [
    {
     "data": {
      "text/plain": [
       "0       18.0\n",
       "1       18.0\n",
       "2       18.0\n",
       "3       18.0\n",
       "4       18.0\n",
       "5       18.0\n",
       "6       18.0\n",
       "7       18.0\n",
       "8       18.0\n",
       "9       18.0\n",
       "10      18.0\n",
       "11      18.0\n",
       "12      18.0\n",
       "13      18.0\n",
       "14      18.0\n",
       "15      18.0\n",
       "16      18.0\n",
       "17      18.0\n",
       "18      18.0\n",
       "19      18.0\n",
       "20      18.0\n",
       "21      18.0\n",
       "22      18.0\n",
       "23      18.0\n",
       "24      18.0\n",
       "25      18.0\n",
       "26      18.0\n",
       "27      18.0\n",
       "28      18.0\n",
       "29      18.0\n",
       "        ... \n",
       "8348     7.0\n",
       "8349     7.0\n",
       "8350     7.0\n",
       "8351     7.0\n",
       "8352     7.0\n",
       "8353     7.0\n",
       "8354     7.0\n",
       "8355     7.0\n",
       "8356    15.0\n",
       "8357    15.0\n",
       "8358    15.0\n",
       "8359    15.0\n",
       "8360    15.0\n",
       "8361    15.0\n",
       "8362    15.0\n",
       "8363    15.0\n",
       "8364    15.0\n",
       "8365    15.0\n",
       "8366    15.0\n",
       "8367    15.0\n",
       "8368    15.0\n",
       "8369    15.0\n",
       "8370    15.0\n",
       "8371    15.0\n",
       "8372    15.0\n",
       "8373    15.0\n",
       "8374    15.0\n",
       "8375    15.0\n",
       "8376    15.0\n",
       "8377    15.0\n",
       "Name: career_c, Length: 8249, dtype: float64"
      ]
     },
     "execution_count": 61,
     "metadata": {},
     "output_type": "execute_result"
    }
   ],
   "source": [
    "df.career_c"
   ]
  },
  {
   "cell_type": "code",
   "execution_count": 62,
   "metadata": {},
   "outputs": [],
   "source": [
    "feat = ['iid', 'wave', 'attr1_1', 'sinc1_1', 'intel1_1', 'fun1_1', 'amb1_1', 'shar1_1']"
   ]
  },
  {
   "cell_type": "code",
   "execution_count": 63,
   "metadata": {},
   "outputs": [],
   "source": [
    "temp = df.drop_duplicates(subset=['iid', 'wave']).loc[:, feat]\n",
    "temp.loc[:, 'totalsum'] = temp.iloc[:, 2:].sum(axis=1)\n",
    "idx = ((temp.wave < 6) | (temp.wave > 9)) & (temp.totalsum < 99)\n",
    "idx = ((temp.wave >= 6) & (temp.wave <= 9))"
   ]
  },
  {
   "cell_type": "code",
   "execution_count": 64,
   "metadata": {},
   "outputs": [],
   "source": [
    "df.loc[:, 'temp_totalsum'] = df.loc[:, ['attr1_1', 'sinc1_1', 'intel1_1', 'fun1_1', 'amb1_1', 'shar1_1']].sum(axis=1)"
   ]
  },
  {
   "cell_type": "code",
   "execution_count": 65,
   "metadata": {},
   "outputs": [],
   "source": [
    "df.loc[:, ['attr1_1', 'sinc1_1', 'intel1_1', 'fun1_1', 'amb1_1', 'shar1_1']] = \\\n",
    "(df.loc[:, ['attr1_1', 'sinc1_1', 'intel1_1', 'fun1_1', 'amb1_1', 'shar1_1']].T/df.loc[:, 'temp_totalsum'].T).T * 100"
   ]
  },
  {
   "cell_type": "code",
   "execution_count": 66,
   "metadata": {},
   "outputs": [],
   "source": [
    "feat = ['iid', 'wave', 'attr2_1', 'sinc2_1', 'intel2_1', 'fun2_1', 'amb2_1', 'shar2_1']\n",
    "temp = df.drop_duplicates(subset=['iid', 'wave']).loc[:, feat]\n",
    "temp.loc[:, 'totalsum'] = temp.iloc[:, 2:].sum(axis=1)\n",
    "idx = ((temp.wave < 6) | (temp.wave > 9)) & (temp.totalsum < 90) & (temp.totalsum != 0)\n",
    "idx = ((temp.wave >= 6) & (temp.wave <= 9))\n",
    "df.loc[:, 'temp_totalsum'] = df.loc[:, ['attr2_1', 'sinc2_1', 'intel2_1', 'fun2_1', 'amb2_1', 'shar2_1']].sum(axis=1)\n",
    "df.loc[:, ['attr2_1', 'sinc2_1', 'intel2_1', 'fun2_1', 'amb2_1', 'shar2_1']] = \\\n",
    "(df.loc[:, ['attr2_1', 'sinc2_1', 'intel2_1', 'fun2_1', 'amb2_1', 'shar2_1']].T/df.loc[:, 'temp_totalsum'].T).T * 100"
   ]
  },
  {
   "cell_type": "code",
   "execution_count": 67,
   "metadata": {},
   "outputs": [],
   "source": [
    "df = df.drop(['temp_totalsum'], axis=1)"
   ]
  },
  {
   "cell_type": "code",
   "execution_count": 68,
   "metadata": {},
   "outputs": [],
   "source": [
    "for i in [4, 5]:\n",
    "    feat = ['attr{}_1'.format(i), 'sinc{}_1'.format(i), \n",
    "            'intel{}_1'.format(i), 'fun{}_1'.format(i), \n",
    "            'amb{}_1'.format(i), 'shar{}_1'.format(i)]\n",
    "    \n",
    "    if i != 4:\n",
    "        feat.remove('shar{}_1'.format(i))\n",
    "    \n",
    "    df = df.drop(feat, axis=1)"
   ]
  },
  {
   "cell_type": "code",
   "execution_count": 69,
   "metadata": {},
   "outputs": [],
   "source": [
    "df = df.drop(['wave'], axis=1)"
   ]
  },
  {
   "cell_type": "code",
   "execution_count": 70,
   "metadata": {},
   "outputs": [],
   "source": [
    "df_male = df.query('gender == 1').drop_duplicates(subset=['iid', 'pid'])\\\n",
    "                                 .drop(['gender'], axis=1)\\\n",
    "                                 .dropna()\n",
    "df_female = df.query('gender == 0').drop_duplicates(subset=['iid'])\\\n",
    "                                   .drop(['gender', 'match', 'int_corr', 'samerace'], axis=1)\\\n",
    "                                   .dropna()\n",
    "        \n",
    "df_female.columns = df_female.columns + '_f'"
   ]
  },
  {
   "cell_type": "code",
   "execution_count": 71,
   "metadata": {},
   "outputs": [],
   "source": [
    "df_female = df_female.drop(['pid_f'], axis=1)\n",
    "df_pair = df_male.join(df_female.set_index('iid_f'), on='pid', how='inner')\n",
    "df_pair = df_pair.drop(['iid', 'pid'], axis=1)\n",
    "\n",
    "features = df_pair.columns[1:]"
   ]
  },
  {
   "cell_type": "code",
   "execution_count": 72,
   "metadata": {},
   "outputs": [
    {
     "name": "stdout",
     "output_type": "stream",
     "text": [
      "<class 'pandas.core.frame.DataFrame'>\n",
      "Int64Index: 3999 entries, 100 to 8377\n",
      "Data columns (total 63 columns):\n",
      "match         3999 non-null int64\n",
      "int_corr      3999 non-null float64\n",
      "samerace      3999 non-null int64\n",
      "age           3999 non-null float64\n",
      "field_cd      3999 non-null float64\n",
      "mn_sat        3999 non-null float64\n",
      "tuition       3999 non-null float64\n",
      "race          3999 non-null float64\n",
      "imprace       3999 non-null float64\n",
      "imprelig      3999 non-null float64\n",
      "income        3999 non-null float64\n",
      "goal          3999 non-null float64\n",
      "date          3999 non-null float64\n",
      "go_out        3999 non-null float64\n",
      "career_c      3999 non-null float64\n",
      "exphappy      3999 non-null float64\n",
      "attr1_1       3999 non-null float64\n",
      "sinc1_1       3999 non-null float64\n",
      "intel1_1      3999 non-null float64\n",
      "fun1_1        3999 non-null float64\n",
      "amb1_1        3999 non-null float64\n",
      "shar1_1       3999 non-null float64\n",
      "attr2_1       3999 non-null float64\n",
      "sinc2_1       3999 non-null float64\n",
      "intel2_1      3999 non-null float64\n",
      "fun2_1        3999 non-null float64\n",
      "amb2_1        3999 non-null float64\n",
      "shar2_1       3999 non-null float64\n",
      "attr3_1       3999 non-null float64\n",
      "sinc3_1       3999 non-null float64\n",
      "fun3_1        3999 non-null float64\n",
      "intel3_1      3999 non-null float64\n",
      "amb3_1        3999 non-null float64\n",
      "age_f         3999 non-null float64\n",
      "field_cd_f    3999 non-null float64\n",
      "mn_sat_f      3999 non-null float64\n",
      "tuition_f     3999 non-null float64\n",
      "race_f        3999 non-null float64\n",
      "imprace_f     3999 non-null float64\n",
      "imprelig_f    3999 non-null float64\n",
      "income_f      3999 non-null float64\n",
      "goal_f        3999 non-null float64\n",
      "date_f        3999 non-null float64\n",
      "go_out_f      3999 non-null float64\n",
      "career_c_f    3999 non-null float64\n",
      "exphappy_f    3999 non-null float64\n",
      "attr1_1_f     3999 non-null float64\n",
      "sinc1_1_f     3999 non-null float64\n",
      "intel1_1_f    3999 non-null float64\n",
      "fun1_1_f      3999 non-null float64\n",
      "amb1_1_f      3999 non-null float64\n",
      "shar1_1_f     3999 non-null float64\n",
      "attr2_1_f     3999 non-null float64\n",
      "sinc2_1_f     3999 non-null float64\n",
      "intel2_1_f    3999 non-null float64\n",
      "fun2_1_f      3999 non-null float64\n",
      "amb2_1_f      3999 non-null float64\n",
      "shar2_1_f     3999 non-null float64\n",
      "attr3_1_f     3999 non-null float64\n",
      "sinc3_1_f     3999 non-null float64\n",
      "fun3_1_f      3999 non-null float64\n",
      "intel3_1_f    3999 non-null float64\n",
      "amb3_1_f      3999 non-null float64\n",
      "dtypes: float64(61), int64(2)\n",
      "memory usage: 2.0 MB\n"
     ]
    }
   ],
   "source": [
    "df_pair.info()"
   ]
  },
  {
   "cell_type": "code",
   "execution_count": 73,
   "metadata": {},
   "outputs": [],
   "source": [
    "X = df_pair.iloc[:, 1:].values"
   ]
  },
  {
   "cell_type": "code",
   "execution_count": 74,
   "metadata": {},
   "outputs": [],
   "source": [
    "y = df_pair.iloc[:, 0].values"
   ]
  },
  {
   "cell_type": "markdown",
   "metadata": {},
   "source": [
    "Разбейте датасет на трейн и валидацию. Подберите на валидации оптимальный критерий  информативности. \n",
    "Постройте графики зависимости точности на валидации от глубины дерева, от минимального числа объектов для сплита. \n",
    "Какой максимальной точности удалось достигнуть?"
   ]
  },
  {
   "cell_type": "code",
   "execution_count": 229,
   "metadata": {},
   "outputs": [],
   "source": [
    "X_train, X_test, y_train, y_test = train_test_split(X, y, test_size=0.2, random_state=42, shuffle=True)"
   ]
  },
  {
   "cell_type": "code",
   "execution_count": 230,
   "metadata": {},
   "outputs": [],
   "source": [
    "my_clf = MyDecisionTreeClassifier(min_samples_split=2)\n",
    "clf = DecisionTreeClassifier(min_samples_split=2)"
   ]
  },
  {
   "cell_type": "code",
   "execution_count": 231,
   "metadata": {},
   "outputs": [],
   "source": [
    "my_clf.fit(X_train, y_train)"
   ]
  },
  {
   "cell_type": "code",
   "execution_count": 232,
   "metadata": {},
   "outputs": [
    {
     "data": {
      "text/plain": [
       "DecisionTreeClassifier(ccp_alpha=0.0, class_weight=None, criterion='gini',\n",
       "                       max_depth=None, max_features=None, max_leaf_nodes=None,\n",
       "                       min_impurity_decrease=0.0, min_impurity_split=None,\n",
       "                       min_samples_leaf=1, min_samples_split=2,\n",
       "                       min_weight_fraction_leaf=0.0, presort='deprecated',\n",
       "                       random_state=None, splitter='best')"
      ]
     },
     "execution_count": 232,
     "metadata": {},
     "output_type": "execute_result"
    }
   ],
   "source": [
    "clf.fit(X_train, y_train)"
   ]
  },
  {
   "cell_type": "code",
   "execution_count": 233,
   "metadata": {},
   "outputs": [
    {
     "data": {
      "text/plain": [
       "0.83375"
      ]
     },
     "execution_count": 233,
     "metadata": {},
     "output_type": "execute_result"
    }
   ],
   "source": [
    "accuracy_score(my_clf.predict(X_test), y_test)"
   ]
  },
  {
   "cell_type": "code",
   "execution_count": 234,
   "metadata": {},
   "outputs": [
    {
     "data": {
      "text/plain": [
       "0.48278963051541174"
      ]
     },
     "execution_count": 234,
     "metadata": {},
     "output_type": "execute_result"
    }
   ],
   "source": [
    "f1_score(my_clf.predict(X_test), y_test, average='macro')"
   ]
  },
  {
   "cell_type": "code",
   "execution_count": 235,
   "metadata": {},
   "outputs": [
    {
     "data": {
      "text/plain": [
       "0.5436885889861062"
      ]
     },
     "execution_count": 235,
     "metadata": {},
     "output_type": "execute_result"
    }
   ],
   "source": [
    "f1_score(clf.predict(X_test), y_test, average='macro')"
   ]
  },
  {
   "cell_type": "code",
   "execution_count": 236,
   "metadata": {},
   "outputs": [
    {
     "data": {
      "text/plain": [
       "0.735"
      ]
     },
     "execution_count": 236,
     "metadata": {},
     "output_type": "execute_result"
    }
   ],
   "source": [
    "accuracy_score(clf.predict(X_test), y_test)"
   ]
  },
  {
   "cell_type": "markdown",
   "metadata": {},
   "source": [
    "# Валидация"
   ]
  },
  {
   "cell_type": "code",
   "execution_count": 237,
   "metadata": {},
   "outputs": [],
   "source": [
    "from sklearn.model_selection import cross_val_score\n",
    "from sklearn.model_selection import KFold"
   ]
  },
  {
   "cell_type": "code",
   "execution_count": 238,
   "metadata": {},
   "outputs": [],
   "source": [
    "crits = ('gini', 'entropy', 'misclass')\n",
    "scores = []\n",
    "for crit in crits:\n",
    "    model = MyDecisionTreeClassifier(criterion=crit)\n",
    "    scores.append(cross_val_score(model, X_train, y_train, cv=5, scoring='f1').mean())"
   ]
  },
  {
   "cell_type": "code",
   "execution_count": 239,
   "metadata": {},
   "outputs": [
    {
     "data": {
      "text/plain": [
       "[0.026894266022918435, 0.02445634475033005, 0.02169312169312169]"
      ]
     },
     "execution_count": 239,
     "metadata": {},
     "output_type": "execute_result"
    }
   ],
   "source": [
    "scores"
   ]
  },
  {
   "cell_type": "code",
   "execution_count": 240,
   "metadata": {},
   "outputs": [
    {
     "data": {
      "text/plain": [
       "'gini'"
      ]
     },
     "execution_count": 240,
     "metadata": {},
     "output_type": "execute_result"
    }
   ],
   "source": [
    "criterion = crits[np.argmax(scores)]\n",
    "criterion"
   ]
  },
  {
   "cell_type": "code",
   "execution_count": 241,
   "metadata": {},
   "outputs": [],
   "source": [
    "min_samples_split = np.arange(10, 20)\n",
    "scores = []\n",
    "for samples in min_samples_split:\n",
    "    model = MyDecisionTreeClassifier(criterion=criterion, min_samples_split=samples)\n",
    "    scores.append(cross_val_score(model, X_train, y_train, cv=5, scoring='f1').mean())"
   ]
  },
  {
   "cell_type": "code",
   "execution_count": 242,
   "metadata": {},
   "outputs": [
    {
     "data": {
      "text/plain": [
       "[0.010346352247605013,\n",
       " 0.010346352247605013,\n",
       " 0.010346352247605013,\n",
       " 0.010346352247605013,\n",
       " 0.010346352247605013,\n",
       " 0.010346352247605013,\n",
       " 0.017302873986735447,\n",
       " 0.017302873986735447,\n",
       " 0.03130745064577435,\n",
       " 0.03130745064577435]"
      ]
     },
     "execution_count": 242,
     "metadata": {},
     "output_type": "execute_result"
    }
   ],
   "source": [
    "scores"
   ]
  },
  {
   "cell_type": "code",
   "execution_count": 243,
   "metadata": {},
   "outputs": [
    {
     "data": {
      "text/plain": [
       "18"
      ]
     },
     "execution_count": 243,
     "metadata": {},
     "output_type": "execute_result"
    }
   ],
   "source": [
    "min_samples_split = min_samples_split[np.argmax(scores)]\n",
    "min_samples_split"
   ]
  },
  {
   "cell_type": "code",
   "execution_count": 244,
   "metadata": {},
   "outputs": [],
   "source": [
    "depthes = np.arange(2, 20)\n",
    "scores = []\n",
    "for depth in depthes:\n",
    "    model = MyDecisionTreeClassifier(criterion=criterion, min_samples_split=min_samples_split, max_depth=depth)\n",
    "    scores.append(cross_val_score(model, X_train, y_train, cv=5, scoring='f1').mean())"
   ]
  },
  {
   "cell_type": "code",
   "execution_count": 245,
   "metadata": {},
   "outputs": [
    {
     "data": {
      "text/plain": [
       "[0.0,\n",
       " 0.010467980295566502,\n",
       " 0.010778635778635779,\n",
       " 0.03130745064577435,\n",
       " 0.04222738942379122,\n",
       " 0.05450565132490467,\n",
       " 0.060645021320362556,\n",
       " 0.06585177318601361,\n",
       " 0.07123695831252068,\n",
       " 0.07058881016437253,\n",
       " 0.06967285231430227,\n",
       " 0.06897268255862299,\n",
       " 0.06897268255862299,\n",
       " 0.06897268255862299,\n",
       " 0.06897268255862299,\n",
       " 0.06897268255862299,\n",
       " 0.06897268255862299,\n",
       " 0.06897268255862299]"
      ]
     },
     "execution_count": 245,
     "metadata": {},
     "output_type": "execute_result"
    }
   ],
   "source": [
    "scores"
   ]
  },
  {
   "cell_type": "code",
   "execution_count": 246,
   "metadata": {},
   "outputs": [
    {
     "data": {
      "text/plain": [
       "10"
      ]
     },
     "execution_count": 246,
     "metadata": {},
     "output_type": "execute_result"
    }
   ],
   "source": [
    "max_depth = depthes[np.argmax(scores)]\n",
    "max_depth"
   ]
  },
  {
   "cell_type": "code",
   "execution_count": 247,
   "metadata": {},
   "outputs": [],
   "source": [
    "model = MyDecisionTreeClassifier(criterion=criterion, min_samples_split=min_samples_split, max_depth=max_depth)"
   ]
  },
  {
   "cell_type": "code",
   "execution_count": 248,
   "metadata": {},
   "outputs": [],
   "source": [
    "model.fit(X_train, y_train)"
   ]
  },
  {
   "cell_type": "code",
   "execution_count": 249,
   "metadata": {},
   "outputs": [
    {
     "data": {
      "text/plain": [
       "0.5131194454395953"
      ]
     },
     "execution_count": 249,
     "metadata": {},
     "output_type": "execute_result"
    }
   ],
   "source": [
    "f1_score(model.predict(X_test), y_test, average='macro')"
   ]
  },
  {
   "cell_type": "code",
   "execution_count": 250,
   "metadata": {},
   "outputs": [
    {
     "data": {
      "text/plain": [
       "0.82375"
      ]
     },
     "execution_count": 250,
     "metadata": {},
     "output_type": "execute_result"
    }
   ],
   "source": [
    "accuracy_score(y_pred=model.predict(X_test), y_true=y_test)"
   ]
  },
  {
   "cell_type": "markdown",
   "metadata": {},
   "source": [
    "## Находим самые важные признаки (2 балла)\n",
    "\n"
   ]
  },
  {
   "cell_type": "markdown",
   "metadata": {},
   "source": [
    "По построенному дереву  легко понять, какие признаки лучше всего помогли решить задачу. Часто это бывает нужно  не только  для сокращения размерности в данных, но и для лучшего понимания прикладной задачи. Например, Вы хотите понять, какие признаки стоит еще конструировать -- для этого нужно понимать, какие из текущих лучше всего работают в дереве. "
   ]
  },
  {
   "cell_type": "markdown",
   "metadata": {},
   "source": [
    "Самый простой метод -- посчитать число сплитов, где использовался данные признак. Это не лучший вариант, так как по признаку который принимает всего 2 значения, но который почти точно разделяет выборку, число сплитов будет очень 1, но при этом признак сам очень хороший. \n",
    "В этом задании предлагается для каждого признака считать суммарный gain (в лекции обозначено как Q) при использовании этого признака в сплите. Тогда даже у очень хороших признаков с маленьким число сплитов это значение должно быть довольно высоким.  "
   ]
  },
  {
   "cell_type": "markdown",
   "metadata": {},
   "source": [
    "Реализовать это довольно просто: создаете словарь номер фичи : суммарный гейн и добавляете в нужную фичу каждый раз, когда используете ее при построении дерева. "
   ]
  },
  {
   "cell_type": "markdown",
   "metadata": {},
   "source": [
    "Добавьте функционал, который определяет значения feature importance. Обучите дерево на датасете Speed Dating Data.\n",
    "Выведите 10 главных фичей по важности."
   ]
  },
  {
   "cell_type": "code",
   "execution_count": 255,
   "metadata": {},
   "outputs": [],
   "source": [
    "model = MyDecisionTreeClassifier(criterion=criterion, min_samples_split=min_samples_split, max_depth=max_depth)\n",
    "model.fit(X_train, y_train)"
   ]
  },
  {
   "cell_type": "code",
   "execution_count": 256,
   "metadata": {},
   "outputs": [
    {
     "data": {
      "text/plain": [
       "['shar1_1_f',\n",
       " 'intel1_1',\n",
       " 'field_cd_f',\n",
       " 'shar2_1_f',\n",
       " 'imprelig_f',\n",
       " 'fun3_1_f',\n",
       " 'field_cd',\n",
       " 'exphappy_f',\n",
       " 'income_f',\n",
       " 'int_corr']"
      ]
     },
     "execution_count": 256,
     "metadata": {},
     "output_type": "execute_result"
    }
   ],
   "source": [
    "important_features = model.get_feature_importance()\n",
    "list(features[np.argsort(important_features)[-10:]])"
   ]
  },
  {
   "cell_type": "markdown",
   "metadata": {},
   "source": [
    "## Фидбек (бесценно)"
   ]
  },
  {
   "cell_type": "markdown",
   "metadata": {},
   "source": [
    "* Какие аспекты обучения деревьев решений Вам показались непонятными? Какое место стоит дополнительно объяснить?"
   ]
  },
  {
   "cell_type": "markdown",
   "metadata": {},
   "source": [
    "### Ваш ответ здесь"
   ]
  },
  {
   "cell_type": "markdown",
   "metadata": {},
   "source": [
    "* Здесь Вы можете оставить отзыв о этой домашней работе или о всем курсе."
   ]
  },
  {
   "cell_type": "markdown",
   "metadata": {},
   "source": [
    "### ВАШ ОТЗЫВ ЗДЕСЬ\n",
    "\n"
   ]
  }
 ],
 "metadata": {
  "anaconda-cloud": {},
  "kernelspec": {
   "display_name": "Python 3.7.0 64-bit",
   "language": "python",
   "name": "python37064bit57b9abd1fbb540b9b129d58852a9e95f"
  },
  "language_info": {
   "codemirror_mode": {
    "name": "ipython",
    "version": 3
   },
   "file_extension": ".py",
   "mimetype": "text/x-python",
   "name": "python",
   "nbconvert_exporter": "python",
   "pygments_lexer": "ipython3",
   "version": "3.7.0"
  }
 },
 "nbformat": 4,
 "nbformat_minor": 2
}
