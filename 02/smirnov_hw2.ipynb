{
 "cells": [
  {
   "cell_type": "markdown",
   "metadata": {},
   "source": [
    "# Алгоритмы интеллектуальной обработки больших объемов данных\n",
    "## Домашнее задание №2: Линейные модели\n"
   ]
  },
  {
   "cell_type": "markdown",
   "metadata": {},
   "source": [
    "###### <hr\\>\n",
    "**Общая информация**\n",
    "\n",
    "**Срок сдачи:** 09 ноября 18:00 Сдача **очная** на онлайн занятии. <br\\>\n",
    "\n",
    "\n",
    "Используйте данный Ipython Notebook при оформлении домашнего задания.\n",
    "\n",
    "Присылать ДЗ необходимо в виде ссылки на свой github репозиторий на почту ml1.sphere@mail.ru с указанием темы в следующем формате:\n",
    "\n",
    "[ML0920, Задание 2] Фамилия Имя.\n",
    "\n",
    "\n",
    "\n",
    "**Штрафные баллы:**\n",
    "\n",
    "1. Невыполнение PEP8 -1 балл\n",
    "2. Отсутствие фамилии в имени скрипта (скрипт должен называться по аналогии со stroykova_hw2.ipynb) -1 балл\n",
    "3. Все строчки должны быть выполнены. Нужно, чтобы output команды можно было увидеть уже в git'е. В противном случае -1 балл\n",
    "4. При оформлении ДЗ нужно пользоваться данным файлом в качестве шаблона. Не нужно удалять и видоизменять написанный код и текст, если явно не указана такая возможность. В противном случае -1 балл\n",
    "<hr\\>"
   ]
  },
  {
   "cell_type": "code",
   "execution_count": 14,
   "metadata": {},
   "outputs": [],
   "source": [
    "import pandas as pd\n",
    "import numpy as np\n",
    "import matplotlib.pyplot as plt\n",
    "\n",
    "%matplotlib inline\n",
    "\n",
    "plt.style.use('ggplot')\n",
    "plt.rcParams['figure.figsize'] = (12, 5)"
   ]
  },
  {
   "cell_type": "markdown",
   "metadata": {},
   "source": [
    "Здравствуйте, уважаемые студенты! \n",
    "\n",
    "В этом задании мы будем реализовать линейные модели. Необходимо реализовать линейную и логистическую регрессии с L2 регуляризацией"
   ]
  },
  {
   "cell_type": "markdown",
   "metadata": {},
   "source": [
    "# Теоретическое введение\n",
    "\n"
   ]
  },
  {
   "cell_type": "markdown",
   "metadata": {},
   "source": [
    "Линейная регрессия решает задачу регрессии и оптимизирует функцию потерь MSE \n",
    "\n",
    "$$L(w) =  \\frac{1}{N}\\left[\\sum_i (y_i - a_i) ^ 2 \\right], $$ где $y_i$ $-$ целевая функция,  $a_i = a(x_i) =  \\langle\\,x_i,w\\rangle ,$ $-$ предсказание алгоритма на объекте $x_i$, $w$ $-$ вектор весов (размерности $D$), $x_i$ $-$ вектор признаков (такой же размерности $D$).\n",
    "\n",
    "Не забываем, что здесь и далее  мы считаем, что в $x_i$ есть тождественный вектор единиц, ему соответствует вес $w_0$.\n"
   ]
  },
  {
   "cell_type": "markdown",
   "metadata": {},
   "source": [
    "Логистическая регрессия является линейным классификатором, который оптимизирует так называемый функционал log loss:"
   ]
  },
  {
   "cell_type": "markdown",
   "metadata": {},
   "source": [
    "$$L(w) = - \\frac{1}{N}\\left[\\sum_i y_i \\log a_i + ( 1 - y_i) \\log (1 - a_i) \\right],$$\n",
    "где  $y_i  \\in \\{0,1\\}$ $-$ метка класса, $a_i$ $-$ предсказание алгоритма на объекте $x_i$. Модель пытается предсказать апостериорую вероятность объекта принадлежать к классу \"1\":\n",
    "$$ p(y_i = 1 | x_i) = a(x_i) =  \\sigma( \\langle\\,x_i,w\\rangle ),$$\n",
    "$w$ $-$ вектор весов (размерности $D$), $x_i$ $-$ вектор признаков (такой же размерности $D$).\n",
    "\n",
    "Функция $\\sigma(x)$ $-$ нелинейная функция, пероводящее скалярное произведение объекта на веса в число $\\in (0,1)$ (мы же моделируем вероятность все-таки!)\n",
    "\n",
    "$$\\sigma(x) = \\frac{1}{1 + \\exp(-x)}$$\n",
    "\n",
    "Если внимательно посмотреть на функцию потерь, то можно заметить, что в зависимости от правильного ответа алгоритм штрафуется или функцией $-\\log a_i$, или функцией $-\\log (1 - a_i)$.\n",
    "\n"
   ]
  },
  {
   "cell_type": "markdown",
   "metadata": {},
   "source": [
    "Часто для решения проблем, которые так или иначе связаны с проблемой переобучения, в функционал качества добавляют слагаемое, которое называют ***регуляризацией***. Итоговый функционал для линейной регрессии тогда принимает вид:\n",
    "\n",
    "$$L(w) =  \\frac{1}{N}\\left[\\sum_i (y_i - a_i) ^ 2 \\right] + \\frac{1}{C}R(w) $$\n",
    "\n",
    "Для логистической: \n",
    "$$L(w) = - \\frac{1}{N}\\left[\\sum_i y_i \\log a_i + ( 1 - y_i) \\log (1 - a_i) \\right] +  \\frac{1}{C}R(w)$$\n",
    "\n",
    "Самое понятие регуляризации введено основателем ВМК академиком Тихоновым https://ru.wikipedia.org/wiki/Метод_регуляризации_Тихонова\n",
    "\n",
    "Идейно методика регуляризации заключается в следующем $-$ мы рассматриваем некорректно поставленную задачу (что это такое можно найти в интернете), для того чтобы сузить набор различных вариантов (лучшие из которых будут являться переобучением ) мы вводим дополнительные ограничения на множество искомых решений. На лекции Вы уже рассмотрели два варианта регуляризации.\n",
    "\n",
    "$L1$ регуляризация:\n",
    "$$R(w) = \\sum_{j=1}^{D}|w_j|$$\n",
    "$L2$ регуляризация:\n",
    "$$R(w) =  \\sum_{j=1}^{D}w_j^2$$\n",
    "\n",
    "С их помощью мы ограничиваем модель в  возможности выбора каких угодно весов минимизирующих наш лосс, модель уже не сможет подстроиться под данные как ей угодно. \n",
    "\n",
    "Вам нужно добавить соотвествущую Вашему варианту $L2$ регуляризацию.\n",
    "\n",
    "И так, мы поняли, какую функцию ошибки будем минимизировать, разобрались, как получить предсказания по объекту и обученным весам. Осталось разобраться, как получить оптимальные веса. Для этого нужно выбрать какой-то метод оптимизации.\n",
    "\n"
   ]
  },
  {
   "cell_type": "markdown",
   "metadata": {},
   "source": [
    "Градиентный спуск является самым популярным алгоритмом обучения линейных моделей. В этом задании Вам предложат реализовать стохастический градиентный спуск или  мини-батч градиентный спуск (мини-батч на русский язык довольно сложно перевести, многие переводят это как \"пакетный\", но мне не кажется этот перевод удачным). Далее нам потребуется определение **эпохи**.\n",
    "Эпохой в SGD и MB-GD называется один проход по **всем** объектам в обучающей выборки.\n",
    "* В SGD градиент расчитывается по одному случайному объекту. Сам алгоритм выглядит примерно так:\n",
    "        1) Перемешать выборку\n",
    "        2) Посчитать градиент функции потерь на одном объекте (далее один объект тоже будем называть батчем)\n",
    "        3) Сделать шаг спуска\n",
    "        4) Повторять 2) и 3) пока не пройдет максимальное число эпох.\n",
    "* В Mini Batch SGD - по подвыборке объектов. Сам алгоритм выглядит примерно так::\n",
    "        1) Перемешать выборку, выбрать размер мини-батча (от 1 до размера выборки)\n",
    "        2) Почитать градиент функции потерь по мини-батчу (не забыть поделить на  число объектов в мини-батче)\n",
    "        3) Сделать шаг спуска\n",
    "        4) Повторять 2) и 3) пока не пройдет максимальное число эпох.\n",
    "* Для отладки алгоритма реализуйте возможность  вывода средней ошибки на обучении модели по объектам (мини-батчам). После шага градиентного спуска посчитайте значение ошибки на объекте (или мини-батче), а затем усредните, например, по ста шагам. Если обучение проходит корректно, то мы должны увидеть, что каждые 100 шагов функция потерь уменьшается. \n",
    "* Правило останова - максимальное количество эпох\n",
    "    \n"
   ]
  },
  {
   "cell_type": "markdown",
   "metadata": {},
   "source": [
    "# Теоретические вопросы (2 балла)\n",
    "В этой части Вам будут предложены теоретичские вопросы и задачи по теме. Вы, конечно, можете списать их у своего товарища или найти решение в интернете, но учтите, что они обязательно войдут в теоретический коллоквиум. Лучше разобраться в теме сейчас и успешно ответить на коллоквиуме, чем списать, не разобравшись в материале, и быть терзаемым совестью. \n",
    "\n",
    "\n",
    "Формулы надо оформлять в формате **LaTeX**."
   ]
  },
  {
   "cell_type": "markdown",
   "metadata": {},
   "source": [
    "Задача 1. Градиент для линейной регрессии.\n",
    "* Выпишите формулу обновления весов для линейной регрессии с L2 регуляризацией для мини-батч градиентого спуска размера $n$:\n",
    "\n",
    "$$ w_{new} = w_{old} + \\frac{2\\alpha}{n}\\sum_{i=1}^{n}(y_{i} - \\langle x_{i},w_{old} \\rangle)x_{i} - \\frac{2\\alpha}{C}w_{old} $$\n",
    "\n",
    " Отнеситесь к этому пункту максимально серьезно, это Вам нужно будет реализовать в задании.\n",
    " \n",
    "Проанализруйте итоговую формулу градиента - как  интуитивно можно  описать, чему равен градиент?"
   ]
  },
  {
   "cell_type": "markdown",
   "metadata": {},
   "source": [
    "***Ваше решение здесь***\n",
    "$$ 0) x = (f_1, f_2, ..., f_D) $$\n",
    "\n",
    "$$1) \\nabla_w\\langle x,w \\rangle = grad (\\langle x,w \\rangle) = (\\frac{\\delta (f_1w_1)}{\\delta w_1},\\frac{\\delta (f_2w_2)}{\\delta w_2},...,\\frac{\\delta (f_Dw_D)}{\\delta w_D}) = (f_1,f_2,...,f_D) = x $$\n",
    "\n",
    "\n",
    "$$ 2) \\nabla\\sum_{i=1}^{n}f_i = \\sum_{i=1}^{n}\\nabla f_i$$\n",
    "\n",
    "$$ 3) \\nabla_w L(X,w)= \\nabla_w(\\frac{1}{n}\\left[\\sum_{i=1}^{n} (y_i - \\langle\\,x_i,w\\rangle) ^ 2 \\right] + \\frac{1}{C}R(w))$$\n",
    "\n",
    "$$ 4) R(w) =  \\sum_{j=1}^{D}w_j^2 $$\n",
    "\n",
    "$$ 5) \\nabla_w L(X,w) =  - \\frac{2}{n}\\sum_{i=1}^{n}(y_{i} - \\langle x_{i},w \\rangle)x_{i} + \\frac{2}{C} w $$\n",
    "$$ 6)  w_{new} = w_{old} + \\frac{2\\alpha}{n}\\sum_{i=1}^{n}(y_{i} - \\langle x_{i},w_{old} \\rangle)x_{i} - \\frac{2\\alpha}{C}w_{old} $$\n",
    "\n",
    "Если попытаться интуитивно описать формулу градиента, то он похож на среднюю ошибку алгоритма на мини-батче."
   ]
  },
  {
   "cell_type": "markdown",
   "metadata": {},
   "source": [
    "Задача 2. Градиент для логистической регрессии.\n",
    "* Выпишите формулу обновления весов для логистической регрессии с L2 регуляризацией  для мини-батч градиентого спуска размера $n$:\n",
    "\n",
    "$$ w_{new} = w_{old} +\\frac{\\alpha}{n}\\sum_{i = 1}^{n}(y_{i} - \\sigma(\\langle w_{old},x_{i} \\rangle))x_i - \\frac{2\\alpha}{C}w_{old} $$\n",
    "\n",
    " Отнеситесь к этому пункту максимально серьезно, это Вам нужно будет реализовать в задании.\n",
    " \n",
    "Проанализруйте итоговую формулу градиента - как  интуитивно можно  описать, чему равен градиент? Как соотносится этот градиент с градиентом, возникающий в задаче линейной регрессии?\n",
    "\n",
    "Подсказка: Вам градиент, которой получается если “в лоб” продифференцировать,  надо немного преобразовать.\n",
    "Надо подставить, что $1 - \\sigma(w,x) $ это  $1 - a(x_i)$, а  $-\\sigma(w,x)$ это $0 - a(x_i)$.  Тогда получится свести к одной красивой формуле с линейной регрессией, которую программировать будет намного проще."
   ]
  },
  {
   "cell_type": "markdown",
   "metadata": {},
   "source": [
    "***Ваше решение здесь***\n",
    "$$ 0) x = (f_1, f_2, ..., f_D) $$\n",
    "\n",
    "$$1) \\nabla_w\\langle x,w \\rangle = grad (\\langle x,w \\rangle) = (\\frac{\\delta (f_1w_1)}{\\delta w_1},\\frac{\\delta (f_2w_2)}{\\delta w_2},...,\\frac{\\delta (f_Dw_D)}{\\delta w_D}) = (f_1,f_2,...,f_D) = x $$\n",
    "\n",
    "$$3) \\nabla\\sum_{i=1}^{n}f_i = \\sum_{i=1}^{n}\\nabla f_i$$\n",
    "\n",
    "$$4) \\nabla_w\\sigma(w,x) = \\frac{e^{-x}}{(1+e^{-x})^2} = (1-\\sigma(x,w))\\sigma(x,w)$$\n",
    "\n",
    "$$5) R(w) =  \\sum_{j=1}^{D}w_j^2 $$\n",
    "\n",
    "$$6) \\nabla_w L(X,w) = \\nabla_w(-\\frac{1}{n}\\sum_{i = 1}^{n}(y_ilog(\\sigma(\\langle x_i,w \\rangle))+(1-y_i)log(1-\\sigma(\\langle x_i,w \\rangle)) + \\frac{1}{C}R(w)) = -\\frac{1}{n}\\sum_{i = 1}^{n}(y_i(1-\\sigma(\\langle w,x_i \\rangle))x_i - (1-y_i)\\sigma(\\langle x_i,w \\rangle)x_i)  + \\frac{2}{C} w=$$  \n",
    "\n",
    "$$ = -\\frac{1}{n}\\sum_{i = 1}^{n}(y_i - \\sigma(\\langle w,x_i \\rangle))x_i  + \\frac{2}{C} w$$\n",
    "$$w_{new} = w_{old} + \\frac{\\alpha}{n}\\sum_{i = 1}^{n}(y_{i} - \\sigma(\\langle w_{old},x_{i} \\rangle))x_i - \\frac{2\\alpha}{C}w_{old}$$\n",
    "\n",
    "Аналогично, если попытаться интуитивно описать формулу градиента, то он похож на среднюю ошибку алгоритма на мини-батче. Градиенты линейной и логистической регрессии похожи)"
   ]
  },
  {
   "cell_type": "markdown",
   "metadata": {},
   "source": [
    "Задача 3. Точное решение линейной регрессии\n",
    "\n",
    "На лекции было показано, что точное решение линейной регрессии имеет вид $w = (X^TX)^{-1}X^TY $. \n",
    "* Покажите, что это действительно является точкой минимума в случае, если матрица X имеет строк не меньше, чем столбцов и имеет полный ранг. Подсказка: посчитайте Гессиан и покажите, что в этом случае он положительно определен. \n",
    "* Выпишите точное решение для модели с $L2$ регуляризацией. Как L2 регуляризация помогает с точным решением где матрица X имеет линейно зависимые признаки?"
   ]
  },
  {
   "cell_type": "markdown",
   "metadata": {},
   "source": [
    "***Ваше решение здесь***\n",
    "\n",
    "Первая производная: $$ \\nabla_w Q(X,w) = \\nabla_w ((\\langle X, w \\rangle - y)^T(\\langle X, w \\rangle - y)) = (2X^TXw - 2X^Ty)$$\n",
    "\n",
    "Вторая производная: $$ \\nabla_w^2 Q(X,w) = (2X^TX)^T = 2X^TX $$\n",
    "\n",
    "Рассмотрим матрицу $ X^TX $\n",
    "\n",
    "Это матрица Грама для линейно независимых векторов $ x_1, x_2.. x_n, где     x_i{}_j = (x_i{}_1, x_i{}_2,...x_i{}_m) $\n",
    "\n",
    "Тогда эта матрица положительно определенная по критерию.\n",
    "Тогда $ X^TX > 0 $\n",
    "\n",
    "Следовательно вторая производная больше нуля, следовательно $w = (X^TX)^{-1}X^TY $ точка минимума\n",
    "\n",
    "Точное решение для модели с $L2$ регуляризацией:\n",
    "$$ Q_r(w) = (\\langle X, w \\rangle - y)^T(\\langle X, w \\rangle - y) + \\alpha w^Tw$$\n",
    "\n",
    "$$ \\nabla_w Q_r(w) = 2X^TXw - 2X^Ty + \\alpha (I^T + I)w = (2X^TX + 2\\alpha I)w - 2X^Ty = 0  $$\n",
    "\n",
    "$$ w = (X^TX + \\alpha I)^{-1}(X^Ty) $$\n",
    "\n",
    "Если X состоит из линейно зависимых векторов, то $ X^TX $ тоже и следовательно определитель $ X^TX $ равен нулю, поэтому у $ X^TX $ не существует обратной матрицы. Если же к $ X^TX $ прибавить $\\alpha I (\\alpha != 0) $ то определитель матрицы перестанет быть равным нулю, и следовательно обратная матрица будет существовать, поэтому будет существовать и точное решение. "
   ]
  },
  {
   "cell_type": "markdown",
   "metadata": {},
   "source": [
    "Задача 4.  Предсказываем вероятности.\n",
    "\n",
    "Когда говорят о логистической регрессии, произносят фразу, что она \"предсказывает вероятности положительного класса\". Давайте разберемся, что же за этим стоит. Посчитаем математическое ожидание функции потерь и проверим, что предсказание алгоритма, оптимизирующее это мат. ожидание, будет являться вероятностью положительного класса. \n",
    "\n",
    "И так, функция потерь на объекте $x_i$, который имеет метку $y_i \\in \\{0,1\\}$  для предсказания $a(x_i)$ равна:\n",
    "$$L(y_i, b) =-[y_i == 1] \\log a(x_i)  - [y_i == 0] \\log(1 - a(x_i)) $$\n",
    "\n",
    "Где $[]$ означает индикатор $-$ он равен единице, если значение внутри него истинно, иначе он равен нулю. Тогда мат. ожидание при условии конкретного $x_i$  по определение мат. ожидания дискретной случайной величины:\n",
    "$$E(L | x_i) = -p(y_i = 1 |x_i ) \\log a(x_i)  - p(y_i = 0 | x_i) \\log( 1 - a(x_i))$$\n",
    "* Докажите, что значение $a(x_i)$, минимизирующее данное мат. ожидание, в точности равно $p(y_i = 1 |x_i)$, то есть равно вероятности положительного класса.\n",
    "\n",
    "Подсказка: возможно, придется воспользоваться, что  $p(y_i = 1 | x_i) + p(y_i = 0 | x_i) = 1$"
   ]
  },
  {
   "cell_type": "markdown",
   "metadata": {},
   "source": [
    "***Ваше решение здесь***\n",
    "$$1) E(L | x_i) = -p(y_i = 1 |x_i ) \\log a(x_i)  - p(y_i = 0 | x_i) \\log( 1 - a(x_i))$$\n",
    "\n",
    "$$ 2) \\frac{\\delta E(L | x_i)}{\\delta a(x_i)} = - \\frac {p(y_i = 1 |x_i)}{a(x_i)} + \\frac {p(y_i = 0 |x_i)}{1-a(x_i)} = $$\n",
    "\n",
    "$$ = \\frac{ -p(y_i = 1 |x_i) + p(y_i = 1 |x_i)a(x_i) + p(y_i = 0 |x_i)a(x_i)}{a(x_i)(1-a(x_i))} = \\frac{ -p(y_i = 1 |x_i) + a(x_i) (p(y_i = 0 |x_i) + p(y_i = 1 |x_i)) }{a(x_i)(1-a(x_i))} = $$\n",
    "\n",
    "$$ = \\frac{ -p(y_i = 1 |x_i) + a(x_i)}{a(x_i)(1-a(x_i))} = 0$$\n",
    "\n",
    "$$ 3) Получаем: a(x_i) = p(y_i = 1|x_i) - Экстремум $$\n"
   ]
  },
  {
   "cell_type": "markdown",
   "metadata": {},
   "source": [
    "Задача 5.  Смысл регуляризации.\n",
    "\n",
    "Нужно ли в L1/L2 регуляризации использовать свободный член $w_0$ (который не умножается ни на какой признак)?\n",
    "\n",
    "Подсказка: подумайте, для чего мы вводим $w_0$"
   ]
  },
  {
   "cell_type": "markdown",
   "metadata": {},
   "source": [
    "***Ваше решение здесь***\n",
    "$ w_0 $ - bias (смещение) отвечает за двиг нашего линейного пространства, описываемого векторами $ w_1, w_2, ... w_D $, относительно начала координат. Bias нужен для того, чтобы наша модель настраивалась на целевую зависимость, поэтому да, в L1/L2 регуляризации нужно использовать $ w_0 $."
   ]
  },
  {
   "cell_type": "markdown",
   "metadata": {},
   "source": [
    "#  Реализация линейной модели (4 балла)"
   ]
  },
  {
   "cell_type": "markdown",
   "metadata": {},
   "source": [
    "## Зачем нужны батчи?\n"
   ]
  },
  {
   "cell_type": "markdown",
   "metadata": {},
   "source": [
    "Как Вы могли заметить из теоретического введения, что в случае SGD, что в случа mini-batch GD,  на каждой итерации обновление весов  происходит только по небольшой части данных (1 пример в случае SGD, batch примеров в случае mini-batch). То есть для каждой итерации нам *** не нужна вся выборка***. Мы можем просто итерироваться по выборке, беря батч нужного размера (далее 1 объект тоже будем называть батчом).\n",
    "\n",
    "Легко заметить, что в этом случае нам не нужно загружать все данные в оперативную память, достаточно просто считать батч с диска, обновить веса, считать диска другой батч и так далее. В целях упрощения домашней работы, прямо с диска  мы считывать не будем, будем работать с обычными numpy array. \n",
    "\n",
    "\n",
    "\n"
   ]
  },
  {
   "cell_type": "markdown",
   "metadata": {},
   "source": [
    "## Немножко про генераторы в Python\n",
    "\n"
   ]
  },
  {
   "cell_type": "markdown",
   "metadata": {},
   "source": [
    "Идея считывания данных кусками удачно ложится на так называемые ***генераторы*** из языка Python. В данной работе Вам предлагается не только разобраться с логистической регрессией, но  и познакомиться с таким важным элементом языка.  При желании Вы можете убрать весь код, связанный с генераторами, и реализовать логистическую регрессию и без них, ***штрафоваться это никак не будет***. Главное, чтобы сама модель была реализована правильно, и все пункты были выполнены. \n",
    "\n",
    "Подробнее можно почитать вот тут https://anandology.com/python-practice-book/iterators.html\n"
   ]
  },
  {
   "cell_type": "markdown",
   "metadata": {},
   "source": [
    "К генератору стоит относиться просто как к функции, которая порождает не один объект, а целую последовательность объектов. Новое значение из последовательности генерируется с помощью ключевого слова ***yield***. Ниже Вы можете насладиться  генератором чисел Фибоначчи."
   ]
  },
  {
   "cell_type": "code",
   "execution_count": 1,
   "metadata": {},
   "outputs": [],
   "source": [
    "def fib(max_iter=4):\n",
    "    a, b = 0, 1\n",
    "    iter_num = 0\n",
    "    while 1:\n",
    "        yield a\n",
    "        a, b = b, a + b\n",
    "        iter_num += 1\n",
    "        if iter_num == max_iter:\n",
    "            break"
   ]
  },
  {
   "cell_type": "markdown",
   "metadata": {},
   "source": [
    "Вот так можно сгенерировать последовательность Фибоначчи. \n",
    "\n",
    "Заметьте, что к генераторам можно применять некоторые стандартные функции из Python, например enumerate."
   ]
  },
  {
   "cell_type": "code",
   "execution_count": 2,
   "metadata": {},
   "outputs": [
    {
     "name": "stdout",
     "output_type": "stream",
     "text": [
      "Fib num: 0 fib values: 0\n",
      "Fib num: 1 fib values: 1\n",
      "Fib num: 2 fib values: 1\n",
      "Fib num: 3 fib values: 2\n"
     ]
    }
   ],
   "source": [
    "new_generator = fib()\n",
    "for j, fib_val in enumerate(new_generator):\n",
    "    print(\"Fib num: \" + str(j) + \" fib values: \" + str(fib_val))"
   ]
  },
  {
   "cell_type": "markdown",
   "metadata": {},
   "source": [
    "Пересоздавая объект, можно сколько угодно раз генерировать заново последовательность. "
   ]
  },
  {
   "cell_type": "code",
   "execution_count": 3,
   "metadata": {},
   "outputs": [
    {
     "name": "stdout",
     "output_type": "stream",
     "text": [
      "Fib num: 0 fib values: 0\n",
      "Fib num: 1 fib values: 1\n",
      "Fib num: 2 fib values: 1\n",
      "Fib num: 3 fib values: 2\n",
      "Fib num: 0 fib values: 0\n",
      "Fib num: 1 fib values: 1\n",
      "Fib num: 2 fib values: 1\n",
      "Fib num: 3 fib values: 2\n",
      "Fib num: 0 fib values: 0\n",
      "Fib num: 1 fib values: 1\n",
      "Fib num: 2 fib values: 1\n",
      "Fib num: 3 fib values: 2\n"
     ]
    }
   ],
   "source": [
    "for i in range(0, 3):\n",
    "    new_generator = fib()\n",
    "    for j, fib_val in enumerate(new_generator):\n",
    "        print(\"Fib num: \" + str(j) + \" fib values: \" + str(fib_val))"
   ]
  },
  {
   "cell_type": "markdown",
   "metadata": {},
   "source": [
    "А вот так уже нельзя."
   ]
  },
  {
   "cell_type": "code",
   "execution_count": 4,
   "metadata": {},
   "outputs": [
    {
     "name": "stdout",
     "output_type": "stream",
     "text": [
      "Fib num: 0 fib values: 0\n",
      "Fib num: 1 fib values: 1\n",
      "Fib num: 2 fib values: 1\n",
      "Fib num: 3 fib values: 2\n"
     ]
    }
   ],
   "source": [
    "new_generator = fib()\n",
    "for i in range(0, 3):\n",
    "    for j, fib_val in enumerate(new_generator):\n",
    "        print(\"Fib num: \" + str(j) + \" fib values: \" + str(fib_val))"
   ]
  },
  {
   "cell_type": "markdown",
   "metadata": {},
   "source": [
    "Концепция крайне удобная для обучения  моделей $-$ у Вас есть некий источник данных, который Вам выдает их кусками, и Вам совершенно все равно откуда он их берет. Под ним может скрывать как массив в оперативной памяти, как файл на жестком диске, так и SQL база данных. Вы сами данные никуда не сохраняете, оперативную память экономите."
   ]
  },
  {
   "cell_type": "markdown",
   "metadata": {},
   "source": [
    "Если Вам понравилась идея с генераторами, то Вы можете реализовать свой, используя прототип batch_generator. В нем Вам нужно выдавать батчи признаков и ответов для каждой новой итерации спуска. Если не понравилась идея, то можете реализовывать SGD или mini-batch GD без генераторов."
   ]
  },
  {
   "cell_type": "code",
   "execution_count": 11,
   "metadata": {},
   "outputs": [],
   "source": [
    "def batch_generator(X, y, shuffle=True, batch_size=1):\n",
    "    \"\"\"\n",
    "    Гератор новых батчей для обучения\n",
    "    X          - матрица объекты-признаки\n",
    "    y_batch    - вектор ответов\n",
    "    shuffle    - нужно ли случайно перемешивать выборку\n",
    "    batch_size - размер батча ( 1 это SGD, > 1 mini-batch GD)\n",
    "    Генерирует подвыборку для итерации спуска (X_batch, y_batch)\n",
    "    \"\"\"\n",
    "\n",
    "    indices = np.arange(X.shape[0])\n",
    "    if shuffle is True:\n",
    "        np.random.shuffle(indices)\n",
    "    for i in range(0, X.shape[0], batch_size):\n",
    "        X_batch = X[indices[i: min(i + batch_size, X.shape[0])]]\n",
    "        y_batch = y[indices[i: min(i + batch_size, X.shape[0])]]\n",
    "        yield (X_batch, y_batch)\n",
    "\n",
    "# Теперь можно сделать генератор по данным ()\n",
    "# my_batch_generator = batch_generator(X, y, shuffle=True, batch_size=1)"
   ]
  },
  {
   "cell_type": "code",
   "execution_count": 9,
   "metadata": {},
   "outputs": [
    {
     "name": "stdout",
     "output_type": "stream",
     "text": [
      "Requirement already satisfied: pycodestyle in /Library/Frameworks/Python.framework/Versions/3.7/lib/python3.7/site-packages (2.6.0)\n",
      "Requirement already satisfied: flake8 in /Library/Frameworks/Python.framework/Versions/3.7/lib/python3.7/site-packages (3.8.4)\n",
      "Requirement already satisfied: pycodestyle_magic in /Library/Frameworks/Python.framework/Versions/3.7/lib/python3.7/site-packages (0.5)\n",
      "Requirement already satisfied: mccabe<0.7.0,>=0.6.0 in /Users/egor/Library/Python/3.7/lib/python/site-packages (from flake8) (0.6.1)\n",
      "Requirement already satisfied: pyflakes<2.3.0,>=2.2.0 in /Library/Frameworks/Python.framework/Versions/3.7/lib/python3.7/site-packages (from flake8) (2.2.0)\n",
      "Requirement already satisfied: importlib-metadata; python_version < \"3.8\" in /Library/Frameworks/Python.framework/Versions/3.7/lib/python3.7/site-packages (from flake8) (1.7.0)\n",
      "Requirement already satisfied: zipp>=0.5 in /Library/Frameworks/Python.framework/Versions/3.7/lib/python3.7/site-packages (from importlib-metadata; python_version < \"3.8\"->flake8) (3.1.0)\n",
      "\u001b[33mWARNING: You are using pip version 20.0.2; however, version 20.2.4 is available.\n",
      "You should consider upgrading via the '/Library/Frameworks/Python.framework/Versions/3.7/bin/python3.7 -m pip install --upgrade pip' command.\u001b[0m\n"
     ]
    }
   ],
   "source": [
    "!pip install pycodestyle flake8 pycodestyle_magic"
   ]
  },
  {
   "cell_type": "code",
   "execution_count": 2,
   "metadata": {},
   "outputs": [],
   "source": [
    "%load_ext pycodestyle_magic"
   ]
  },
  {
   "cell_type": "code",
   "execution_count": 82,
   "metadata": {},
   "outputs": [],
   "source": [
    "#%%pycodestyle\n",
    "from sklearn.base import BaseEstimator, ClassifierMixin\n",
    "\n",
    "\n",
    "def sigmoid(x):\n",
    "    \"\"\"\n",
    "    Вычисляем значение сигмоида.\n",
    "    X - выход линейной модели\n",
    "    \"\"\"\n",
    "    sigm_value_x = 1 / (1 + np.exp(-x))\n",
    "    return sigm_value_x\n",
    "\n",
    "\n",
    "class MySGDClassifier(BaseEstimator, ClassifierMixin):\n",
    "\n",
    "    def __init__(self, batch_generator, C=1, alpha=0.01, max_epoch=10, model_type='lin_reg', batch_size=1, threshold=0.5):\n",
    "        \"\"\"\n",
    "        batch_generator -- функция генератор, которой будем создавать батчи\n",
    "        C - коэф. регуляризации\n",
    "        alpha - скорость спуска\n",
    "        max_epoch - максимальное количество эпох\n",
    "        model_type - тим модели, lin_reg или log_reg\n",
    "        \"\"\"\n",
    "\n",
    "        self.C = C\n",
    "        self.alpha = alpha\n",
    "        self.max_epoch = max_epoch\n",
    "        self.batch_generator = batch_generator\n",
    "        self.errors_log = {'iter': [], 'loss': []}\n",
    "        self.model_type = model_type\n",
    "        self.batch_size = batch_size\n",
    "        self.threshold = threshold\n",
    "\n",
    "    def calc_loss(self, X_batch, y_batch):\n",
    "        \"\"\"\n",
    "        Считаем функцию потерь по батчу\n",
    "        X_batch - матрица объекты-признаки по батчу\n",
    "        y_batch - вектор ответов по батчу\n",
    "        Не забудте тип модели (линейная или логистическая регрессия)!\n",
    "        \"\"\"\n",
    "\n",
    "        if self.model_type == 'lin_reg':\n",
    "            a = X_batch.dot(self.weights)\n",
    "            loss = (y_batch - a) ** 2\n",
    "            loss = loss.sum()\n",
    "            loss /= X_batch.shape[0]\n",
    "            reg = np.sum(self.weights ** 2)\n",
    "            reg /= self.C\n",
    "            loss += reg\n",
    "        elif self.model_type == 'log_reg':\n",
    "            sigm = X_batch.dot(self.weights)\n",
    "            a = sigmoid(sigm)\n",
    "            loss = y_batch * np.log(a) + (1 - y_batch) * np.log(1 - a)\n",
    "            loss = -loss.sum()\n",
    "            loss /= X_batch.shape[0]\n",
    "            reg = np.sum(self.weights ** 2)\n",
    "            reg /= self.C\n",
    "            loss += reg\n",
    "        return loss\n",
    "\n",
    "    def calc_loss_grad(self, X_batch, y_batch):\n",
    "        \"\"\"\n",
    "        Считаем  градиент функции потерь по батчу (то что Вы вывели в задании 1)\n",
    "        X_batch - матрица объекты-признаки по батчу\n",
    "        y_batch - вектор ответов по батчу\n",
    "        Не забудте тип модели (линейная или логистическая регрессия)!\n",
    "        \"\"\"\n",
    "\n",
    "        if self.model_type == 'lin_reg':\n",
    "            a = X_batch.dot(self.weights)\n",
    "            s = y_batch - a\n",
    "            s = -2 * s.dot(X_batch)\n",
    "            s /= X_batch.shape[0]\n",
    "            reg = 2 * self.weights / self.C\n",
    "            loss_grad = s + reg\n",
    "        elif self.model_type == 'log_reg':\n",
    "            sigm = X_batch.dot(self.weights)\n",
    "            a = sigmoid(sigm)\n",
    "            s = y_batch - a\n",
    "            s = - s.dot(X_batch)\n",
    "            s /= X_batch.shape[0]\n",
    "            reg = 2 * self.weights / self.C\n",
    "            loss_grad = s + reg\n",
    "        return loss_grad\n",
    "\n",
    "    def update_weights(self, new_grad):\n",
    "        \"\"\"\n",
    "        Обновляем вектор весов\n",
    "        new_grad - градиент по батчу\n",
    "        \"\"\"\n",
    "\n",
    "        self.weights -= self.alpha * new_grad\n",
    "\n",
    "    def fit(self, X, y):\n",
    "        '''\n",
    "        Обучение модели\n",
    "        X - матрица объекты-признаки\n",
    "        y - вектор ответов\n",
    "        '''\n",
    "\n",
    "        X_train = np.concatenate((np.ones((X.shape[0], 1)), X), axis=1)\n",
    "        self.weights = np.random.uniform(-1, 1, X_train.shape[1])\n",
    "        for n in range(0, self.max_epoch):\n",
    "            new_epoch_generator = self.batch_generator(X_train, y, batch_size=self.batch_size)\n",
    "            for batch_num, new_batch in enumerate(new_epoch_generator):\n",
    "                X_batch = new_batch[0]\n",
    "                y_batch = new_batch[1]\n",
    "                batch_grad = self.calc_loss_grad(X_batch, y_batch)\n",
    "                batch_loss = self.calc_loss(X_batch, y_batch)\n",
    "                self.update_weights(batch_grad)\n",
    "                self.errors_log['iter'].append(batch_num)\n",
    "                self.errors_log['loss'].append(batch_loss)\n",
    "        return self\n",
    "\n",
    "    def predict(self, X):\n",
    "        '''\n",
    "        Предсказание класса\n",
    "        X - матрица объекты-признаки\n",
    "        Не забудте тип модели (линейная или логистическая регрессия)!\n",
    "        '''\n",
    "\n",
    "        X_test = np.concatenate((np.ones((X.shape[0], 1)), X), axis=1)\n",
    "        if self.model_type == 'lin_reg':\n",
    "            y_hat = (X_test.dot(self.weights) > 0).astype(int)\n",
    "        elif self.model_type == 'log_reg':\n",
    "            y_hat = (sigmoid(X_test.dot(self.weights)) > self.threshold).astype(int)\n",
    "        return y_hat"
   ]
  },
  {
   "cell_type": "markdown",
   "metadata": {},
   "source": [
    "Запустите обе регрессии на синтетических данных. \n",
    "\n",
    "\n",
    "Выведите полученные веса и нарисуйте разделяющую границу между классами (используйте только первых два веса для первых двух признаков X[:,0], X[:,1] для отображения в 2d пространство ).  "
   ]
  },
  {
   "cell_type": "code",
   "execution_count": 92,
   "metadata": {},
   "outputs": [],
   "source": [
    "def plot_decision_boundary(clf, label=None):\n",
    "    weights = clf.weights\n",
    "    x = np.linspace(-7, 10, num=2)\n",
    "    plt.plot(x, -(weights[0] + x * weights[1]) / weights[2], label=label)"
   ]
  },
  {
   "cell_type": "code",
   "execution_count": 151,
   "metadata": {},
   "outputs": [
    {
     "data": {
      "text/plain": [
       "<matplotlib.legend.Legend at 0x12be6ba20>"
      ]
     },
     "execution_count": 151,
     "metadata": {},
     "output_type": "execute_result"
    },
    {
     "data": {
      "image/png": "[encoded data removed]",
      "text/plain": [
       "<Figure size 864x360 with 1 Axes>"
      ]
     },
     "metadata": {},
     "output_type": "display_data"
    }
   ],
   "source": [
    "np.random.seed(0)\n",
    "\n",
    "C1 = np.array([[0., -0.8], [1.5, 0.8]])\n",
    "C2 = np.array([[1., -0.7], [2., 0.7]])\n",
    "gauss1 = np.dot(np.random.randn(200, 2) + np.array([5, 3]), C1)\n",
    "gauss2 = np.dot(np.random.randn(200, 2) + np.array([1.5, 0]), C2)\n",
    "\n",
    "X = np.vstack([gauss1, gauss2])\n",
    "y = np.r_[np.ones(200), np.zeros(200)]\n",
    "\n",
    "clf_lin = MySGDClassifier(batch_generator, C=1000)\n",
    "clf_lin.fit(X, y)\n",
    "plot_decision_boundary(clf_lin, label='lin_reg')\n",
    "\n",
    "clf_log = MySGDClassifier(batch_generator, C=1250, max_epoch=20, model_type='log_reg')\n",
    "clf_log.fit(X, y)\n",
    "plot_decision_boundary(clf_log, label='log_reg')\n",
    "\n",
    "plt.scatter(X[:, 0], X[:, 1], c=y)\n",
    "plt.legend()"
   ]
  },
  {
   "cell_type": "markdown",
   "metadata": {},
   "source": [
    "Далее будем анализировать Ваш алгоритм. \n",
    "Для этих заданий используйте датасет ниже."
   ]
  },
  {
   "cell_type": "code",
   "execution_count": 103,
   "metadata": {},
   "outputs": [],
   "source": [
    "from sklearn.datasets import make_classification"
   ]
  },
  {
   "cell_type": "code",
   "execution_count": 104,
   "metadata": {},
   "outputs": [],
   "source": [
    "X, y = make_classification(n_samples=100000, n_features=10,\n",
    "                           n_informative=4, n_redundant=0,\n",
    "                           random_state=123, class_sep=1.0,\n",
    "                           n_clusters_per_class=1)"
   ]
  },
  {
   "cell_type": "markdown",
   "metadata": {},
   "source": [
    "Покажите сходимости обеих регрессией на этом датасете: изобразите график  функции потерь, усредненной по $N$ шагам градиентого спуска, для разных `alpha` (размеров шага). Разные `alpha` расположите на одном графике. \n",
    "\n",
    "$N$ можно брать 10, 50, 100 и т.д. "
   ]
  },
  {
   "cell_type": "code",
   "execution_count": 133,
   "metadata": {},
   "outputs": [
    {
     "data": {
      "text/plain": [
       "<matplotlib.legend.Legend at 0x12d0149e8>"
      ]
     },
     "execution_count": 133,
     "metadata": {},
     "output_type": "execute_result"
    },
    {
     "data": {
      "image/png": "[encoded data removed]",
      "text/plain": [
       "<Figure size 1296x432 with 1 Axes>"
      ]
     },
     "metadata": {},
     "output_type": "display_data"
    }
   ],
   "source": [
    "fig = plt.figure(figsize=(18, 6))\n",
    "plt.xlim(0, 40)\n",
    "plt.ylim(0, 4)\n",
    "alpha = (0.0001, 0.0005, 0.001, 0.0025, 0.005, 0.01, 0.05)\n",
    "N = 100\n",
    "for i in alpha:\n",
    "    clf = MySGDClassifier(batch_generator, C=1000, alpha=i, model_type='lin_reg')\n",
    "    clf.fit(X, y)\n",
    "    loss = []\n",
    "    for l in range(0, len(clf.errors_log['loss']), N):\n",
    "        loss.append(np.sum(clf.errors_log['loss'][l: l + N]) / N)\n",
    "    plt.plot(np.arange(len(loss)), loss, label=\"alpha = \" + str(i))\n",
    "plt.legend()"
   ]
  },
  {
   "cell_type": "code",
   "execution_count": 134,
   "metadata": {},
   "outputs": [
    {
     "data": {
      "text/plain": [
       "<matplotlib.legend.Legend at 0x12bba0b00>"
      ]
     },
     "execution_count": 134,
     "metadata": {},
     "output_type": "execute_result"
    },
    {
     "data": {
      "image/png": "[encoded data removed]",
      "text/plain": [
       "<Figure size 1296x432 with 1 Axes>"
      ]
     },
     "metadata": {},
     "output_type": "display_data"
    }
   ],
   "source": [
    "fig = plt.figure(figsize=(18, 6))\n",
    "plt.xlim(0, 40)\n",
    "plt.ylim(0, 4)\n",
    "alpha = (0.0001, 0.0005, 0.001, 0.0025, 0.005, 0.01)\n",
    "N = 100\n",
    "for i in alpha:\n",
    "    clf = MySGDClassifier(batch_generator, C=1000, alpha=i, model_type='log_reg')\n",
    "    clf.fit(X, y)\n",
    "    loss = []\n",
    "    for l in range(0, len(clf.errors_log['loss']), N):\n",
    "        loss.append(np.sum(clf.errors_log['loss'][l: l + N]) / N)\n",
    "    plt.plot(np.arange(len(loss)), loss, label=\"alpha = \" + str(i))\n",
    "plt.legend()"
   ]
  },
  {
   "cell_type": "code",
   "execution_count": 135,
   "metadata": {},
   "outputs": [
    {
     "data": {
      "text/plain": [
       "<matplotlib.legend.Legend at 0x12bbd74e0>"
      ]
     },
     "execution_count": 135,
     "metadata": {},
     "output_type": "execute_result"
    },
    {
     "data": {
      "image/png": "[encoded data removed]",
      "text/plain": [
       "<Figure size 1296x432 with 1 Axes>"
      ]
     },
     "metadata": {},
     "output_type": "display_data"
    }
   ],
   "source": [
    "fig = plt.figure(figsize=(18, 6))\n",
    "plt.xlim(0, 40)\n",
    "plt.ylim(0, 4)\n",
    "alpha = (0.05, 0.1, 0.15, 0.5)\n",
    "N = 100\n",
    "for i in alpha:\n",
    "    clf = MySGDClassifier(batch_generator, C=1000, alpha=i, model_type='log_reg')\n",
    "    clf.fit(X, y)\n",
    "    loss = []\n",
    "    for l in range(0, len(clf.errors_log['loss']), N):\n",
    "        loss.append(np.sum(clf.errors_log['loss'][l: l + N]) / N)\n",
    "    plt.plot(np.arange(len(loss)), loss, label=\"alpha = \" + str(i))\n",
    "plt.legend()"
   ]
  },
  {
   "cell_type": "markdown",
   "metadata": {},
   "source": [
    "Что Вы можете сказать про сходимость метода при различных `alpha`? Какое значение стоит выбирать для лучшей сходимости?"
   ]
  },
  {
   "cell_type": "markdown",
   "metadata": {},
   "source": [
    "Лучшая сходимость достигается при alpha от 0.001 до 0.01. При больших значениях, график loss'а может расти, что говорит, о том, что при градиентном спуске из-за большого значения alpha (шаг спуска) точка минимума \"перескакивается\". "
   ]
  },
  {
   "cell_type": "markdown",
   "metadata": {},
   "source": [
    "Изобразите график среднего значения весов для обеих регрессий в зависимости от коеф. регуляризации С из `np.logspace(3, -3, 10)` "
   ]
  },
  {
   "cell_type": "code",
   "execution_count": 148,
   "metadata": {},
   "outputs": [
    {
     "name": "stderr",
     "output_type": "stream",
     "text": [
      "/Library/Frameworks/Python.framework/Versions/3.7/lib/python3.7/site-packages/ipykernel_launcher.py:46: RuntimeWarning: overflow encountered in double_scalars\n",
      "/Library/Frameworks/Python.framework/Versions/3.7/lib/python3.7/site-packages/ipykernel_launcher.py:42: RuntimeWarning: overflow encountered in square\n",
      "/Library/Frameworks/Python.framework/Versions/3.7/lib/python3.7/site-packages/ipykernel_launcher.py:45: RuntimeWarning: overflow encountered in square\n",
      "/Library/Frameworks/Python.framework/Versions/3.7/lib/python3.7/site-packages/ipykernel_launcher.py:72: RuntimeWarning: overflow encountered in true_divide\n"
     ]
    },
    {
     "data": {
      "text/plain": [
       "(0, 150)"
      ]
     },
     "execution_count": 148,
     "metadata": {},
     "output_type": "execute_result"
    },
    {
     "data": {
      "image/png": "[encoded data removed]",
      "text/plain": [
       "<Figure size 864x360 with 1 Axes>"
      ]
     },
     "metadata": {},
     "output_type": "display_data"
    }
   ],
   "source": [
    "C = np.logspace(3, -3, 10)\n",
    "weights = []\n",
    "for reg in C:\n",
    "    clf = MySGDClassifier(batch_generator, C=reg, alpha=0.01, model_type='lin_reg', max_epoch=2)\n",
    "    clf.fit(X, y)\n",
    "    weights.append(clf.weights.mean())\n",
    "plt.plot(C, weights)\n",
    "plt.xlim(0, 150)"
   ]
  },
  {
   "cell_type": "code",
   "execution_count": 146,
   "metadata": {},
   "outputs": [
    {
     "name": "stderr",
     "output_type": "stream",
     "text": [
      "/Library/Frameworks/Python.framework/Versions/3.7/lib/python3.7/site-packages/ipykernel_launcher.py:51: RuntimeWarning: divide by zero encountered in log\n",
      "/Library/Frameworks/Python.framework/Versions/3.7/lib/python3.7/site-packages/ipykernel_launcher.py:10: RuntimeWarning: overflow encountered in exp\n",
      "  # Remove the CWD from sys.path while we load stuff.\n",
      "/Library/Frameworks/Python.framework/Versions/3.7/lib/python3.7/site-packages/ipykernel_launcher.py:51: RuntimeWarning: invalid value encountered in multiply\n",
      "/Library/Frameworks/Python.framework/Versions/3.7/lib/python3.7/site-packages/ipykernel_launcher.py:55: RuntimeWarning: overflow encountered in double_scalars\n",
      "/Library/Frameworks/Python.framework/Versions/3.7/lib/python3.7/site-packages/ipykernel_launcher.py:54: RuntimeWarning: overflow encountered in square\n",
      "/Library/Frameworks/Python.framework/Versions/3.7/lib/python3.7/site-packages/ipykernel_launcher.py:80: RuntimeWarning: overflow encountered in true_divide\n"
     ]
    },
    {
     "data": {
      "text/plain": [
       "(0, 100)"
      ]
     },
     "execution_count": 146,
     "metadata": {},
     "output_type": "execute_result"
    },
    {
     "data": {
      "image/png": "[encoded data removed]",
      "text/plain": [
       "<Figure size 864x360 with 1 Axes>"
      ]
     },
     "metadata": {},
     "output_type": "display_data"
    }
   ],
   "source": [
    "C = np.logspace(3, -3, 10)\n",
    "weights = []\n",
    "for reg in C:\n",
    "    clf = MySGDClassifier(batch_generator, C=reg, alpha=0.01, model_type='log_reg', max_epoch=2)\n",
    "    clf.fit(X, y)\n",
    "    weights.append(clf.weights.mean())\n",
    "plt.plot(C, weights)\n",
    "plt.xlim(0, 100)"
   ]
  },
  {
   "cell_type": "markdown",
   "metadata": {},
   "source": [
    "Довольны ли Вы, насколько сильно уменьшились Ваши веса? "
   ]
  },
  {
   "cell_type": "markdown",
   "metadata": {},
   "source": [
    "# Боевое применение (4  балла)\n",
    "\n",
    "**Защита данной части возможна только при преодолении в проекте бейзлайна Handmade baseline.**"
   ]
  },
  {
   "cell_type": "markdown",
   "metadata": {},
   "source": [
    "Давайте применим модель на итоговом проекте! Датасет сделаем точно таким же образом, как было показано в project_overview.ipynb\n",
    "\n",
    "Применим обе регрессии, подберем для них параметры и сравним качество. Может быть Вы еще одновременно с решением домашней работы подрастете на лидерборде!"
   ]
  },
  {
   "cell_type": "code",
   "execution_count": 762,
   "metadata": {},
   "outputs": [
    {
     "name": "stdout",
     "output_type": "stream",
     "text": [
      "28026\n"
     ]
    }
   ],
   "source": [
    "doc_to_title = {}\n",
    "with open('docs_titles.tsv') as f:\n",
    "    for num_line, line in enumerate(f):\n",
    "        if num_line == 0:\n",
    "            continue\n",
    "        data = line.strip().split('\\t', 1)\n",
    "        doc_id = int(data[0])\n",
    "        if len(data) == 1:\n",
    "            title = ''\n",
    "        else:\n",
    "            title = data[1]\n",
    "        doc_to_title[doc_id] = title\n",
    "print(len(doc_to_title))"
   ]
  },
  {
   "cell_type": "code",
   "execution_count": 763,
   "metadata": {},
   "outputs": [],
   "source": [
    "import pandas as pd\n",
    "train_data = pd.read_csv('train_groups.csv')\n",
    "traingroups_titledata = {}\n",
    "for i in range(len(train_data)):\n",
    "    new_doc = train_data.iloc[i]\n",
    "    doc_group = new_doc['group_id']\n",
    "    doc_id = new_doc['doc_id']\n",
    "    target = new_doc['target']\n",
    "    title = doc_to_title[doc_id]\n",
    "    if doc_group not in traingroups_titledata:\n",
    "        traingroups_titledata[doc_group] = []\n",
    "    traingroups_titledata[doc_group].append((doc_id, title, target))"
   ]
  },
  {
   "cell_type": "code",
   "execution_count": 764,
   "metadata": {},
   "outputs": [
    {
     "name": "stdout",
     "output_type": "stream",
     "text": [
      "(11690, 15) (11690,) (11690,)\n"
     ]
    }
   ],
   "source": [
    "import numpy as np\n",
    "y_train = []\n",
    "X_train = []\n",
    "groups_train = []\n",
    "for new_group in traingroups_titledata:\n",
    "    docs = traingroups_titledata[new_group]\n",
    "    for k, (doc_id, title, target_id) in enumerate(docs):\n",
    "        y_train.append(target_id)\n",
    "        groups_train.append(new_group)\n",
    "        all_dist = []\n",
    "        words = set(title.strip().split())\n",
    "        for j in range(0, len(docs)):\n",
    "            if k == j:\n",
    "                continue\n",
    "            doc_id_j, title_j, target_j = docs[j]\n",
    "            words_j = set(title_j.strip().split())\n",
    "            all_dist.append(len(words.intersection(words_j)))\n",
    "        X_train.append(sorted(all_dist, reverse=True)[0:15])\n",
    "X_train = np.array(X_train)\n",
    "y_train = np.array(y_train)\n",
    "groups_train = np.array(groups_train)\n",
    "print(X_train.shape, y_train.shape, groups_train.shape)"
   ]
  },
  {
   "cell_type": "code",
   "execution_count": 765,
   "metadata": {},
   "outputs": [],
   "source": [
    "test_data = pd.read_csv('test_groups.csv')\n",
    "testgroups_titledata = {}\n",
    "for i in range(len(test_data)):\n",
    "    new_doc = test_data.iloc[i]\n",
    "    doc_group = new_doc['group_id']\n",
    "    doc_id = new_doc['doc_id']\n",
    "    title = doc_to_title[doc_id]\n",
    "    if doc_group not in testgroups_titledata:\n",
    "        testgroups_titledata[doc_group] = []\n",
    "    testgroups_titledata[doc_group].append((doc_id, title))"
   ]
  },
  {
   "cell_type": "code",
   "execution_count": 766,
   "metadata": {},
   "outputs": [
    {
     "name": "stdout",
     "output_type": "stream",
     "text": [
      "(16627, 15) (16627,)\n"
     ]
    }
   ],
   "source": [
    "X_test = []\n",
    "groups_test = []\n",
    "for new_group in testgroups_titledata:\n",
    "    docs = testgroups_titledata[new_group]\n",
    "    for k, (doc_id, title) in enumerate(docs):\n",
    "        groups_test.append(new_group)\n",
    "        all_dist = []\n",
    "        words = set(title.strip().split())\n",
    "        for j in range(0, len(docs)):\n",
    "            if k == j:\n",
    "                continue\n",
    "            doc_id_j, title_j = docs[j]\n",
    "            words_j = set(title_j.strip().split())\n",
    "            all_dist.append(len(words.intersection(words_j)))\n",
    "        X_test.append(sorted(all_dist, reverse=True)[0:15])\n",
    "X_test = np.array(X_test)\n",
    "groups_test = np.array(groups_test)\n",
    "print(X_test.shape, groups_test.shape)"
   ]
  },
  {
   "cell_type": "code",
   "execution_count": 767,
   "metadata": {},
   "outputs": [
    {
     "data": {
      "text/plain": [
       "[11691,\n",
       " 11692,\n",
       " 11693,\n",
       " 11694,\n",
       " 11695,\n",
       " 11696,\n",
       " 11697,\n",
       " 11698,\n",
       " 11699,\n",
       " 11700,\n",
       " 11701,\n",
       " 11702,\n",
       " 11703,\n",
       " 11704,\n",
       " 11705,\n",
       " 11706,\n",
       " 11707,\n",
       " 11708,\n",
       " 11709,\n",
       " 11710,\n",
       " 11711,\n",
       " 11712,\n",
       " 11713,\n",
       " 11714,\n",
       " 11715,\n",
       " 11716,\n",
       " 11717,\n",
       " 11718,\n",
       " 11719,\n",
       " 11720,\n",
       " 11721,\n",
       " 11722,\n",
       " 11723,\n",
       " 11724,\n",
       " 11725,\n",
       " 11726,\n",
       " 11727,\n",
       " 11728,\n",
       " 11729,\n",
       " 11730,\n",
       " 11731,\n",
       " 11732,\n",
       " 11733,\n",
       " 11734,\n",
       " 11735,\n",
       " 11736,\n",
       " 11737,\n",
       " 11738,\n",
       " 11739,\n",
       " 11740,\n",
       " 11741,\n",
       " 11742,\n",
       " 11743,\n",
       " 11744,\n",
       " 11745,\n",
       " 11746,\n",
       " 11747,\n",
       " 11748,\n",
       " 11749,\n",
       " 11750,\n",
       " 11751,\n",
       " 11752,\n",
       " 11753,\n",
       " 11754,\n",
       " 11755,\n",
       " 11756,\n",
       " 11757,\n",
       " 11758,\n",
       " 11759,\n",
       " 11760,\n",
       " 11761,\n",
       " 11762,\n",
       " 11763,\n",
       " 11764,\n",
       " 11765,\n",
       " 11766,\n",
       " 11767,\n",
       " 11768,\n",
       " 11769,\n",
       " 11770,\n",
       " 11771,\n",
       " 11772,\n",
       " 11773,\n",
       " 11774,\n",
       " 11775,\n",
       " 11776,\n",
       " 11777,\n",
       " 11778,\n",
       " 11779,\n",
       " 11780,\n",
       " 11781,\n",
       " 11782,\n",
       " 11783,\n",
       " 11784,\n",
       " 11785,\n",
       " 11786,\n",
       " 11787,\n",
       " 11788,\n",
       " 11789,\n",
       " 11790,\n",
       " 11791,\n",
       " 11792,\n",
       " 11793,\n",
       " 11794,\n",
       " 11795,\n",
       " 11796,\n",
       " 11797,\n",
       " 11798,\n",
       " 11799,\n",
       " 11800,\n",
       " 11801,\n",
       " 11802,\n",
       " 11803,\n",
       " 11804,\n",
       " 11805,\n",
       " 11806,\n",
       " 11807,\n",
       " 11808,\n",
       " 11809,\n",
       " 11810,\n",
       " 11811,\n",
       " 11812,\n",
       " 11813,\n",
       " 11814,\n",
       " 11815,\n",
       " 11816,\n",
       " 11817,\n",
       " 11818,\n",
       " 11819,\n",
       " 11820,\n",
       " 11821,\n",
       " 11822,\n",
       " 11823,\n",
       " 11824,\n",
       " 11825,\n",
       " 11826,\n",
       " 11827,\n",
       " 11828,\n",
       " 11829,\n",
       " 11830,\n",
       " 11831,\n",
       " 11832,\n",
       " 11833,\n",
       " 11834,\n",
       " 11835,\n",
       " 11836,\n",
       " 11837,\n",
       " 11838,\n",
       " 11839,\n",
       " 11840,\n",
       " 11841,\n",
       " 11842,\n",
       " 11843,\n",
       " 11844,\n",
       " 11845,\n",
       " 11846,\n",
       " 11847,\n",
       " 11848,\n",
       " 11849,\n",
       " 11850,\n",
       " 11851,\n",
       " 11852,\n",
       " 11853,\n",
       " 11854,\n",
       " 11855,\n",
       " 11856,\n",
       " 11857,\n",
       " 11858,\n",
       " 11859,\n",
       " 11860,\n",
       " 11861,\n",
       " 11862,\n",
       " 11863,\n",
       " 11864,\n",
       " 11865,\n",
       " 11866,\n",
       " 11867,\n",
       " 11868,\n",
       " 11869,\n",
       " 11870,\n",
       " 11871,\n",
       " 11872,\n",
       " 11873,\n",
       " 11874,\n",
       " 11875,\n",
       " 11876,\n",
       " 11877,\n",
       " 11878,\n",
       " 11879,\n",
       " 11880,\n",
       " 11881,\n",
       " 11882,\n",
       " 11883,\n",
       " 11884,\n",
       " 11885,\n",
       " 11886,\n",
       " 11887,\n",
       " 11888,\n",
       " 11889,\n",
       " 11890,\n",
       " 11891,\n",
       " 11892,\n",
       " 11893,\n",
       " 11894,\n",
       " 11895,\n",
       " 11896,\n",
       " 11897,\n",
       " 11898,\n",
       " 11899,\n",
       " 11900,\n",
       " 11901,\n",
       " 11902,\n",
       " 11903,\n",
       " 11904,\n",
       " 11905,\n",
       " 11906,\n",
       " 11907,\n",
       " 11908,\n",
       " 11909,\n",
       " 11910,\n",
       " 11911,\n",
       " 11912,\n",
       " 11913,\n",
       " 11914,\n",
       " 11915,\n",
       " 11916,\n",
       " 11917,\n",
       " 11918,\n",
       " 11919,\n",
       " 11920,\n",
       " 11921,\n",
       " 11922,\n",
       " 11923,\n",
       " 11924,\n",
       " 11925,\n",
       " 11926,\n",
       " 11927,\n",
       " 11928,\n",
       " 11929,\n",
       " 11930,\n",
       " 11931,\n",
       " 11932,\n",
       " 11933,\n",
       " 11934,\n",
       " 11935,\n",
       " 11936,\n",
       " 11937,\n",
       " 11938,\n",
       " 11939,\n",
       " 11940,\n",
       " 11941,\n",
       " 11942,\n",
       " 11943,\n",
       " 11944,\n",
       " 11945,\n",
       " 11946,\n",
       " 11947,\n",
       " 11948,\n",
       " 11949,\n",
       " 11950,\n",
       " 11951,\n",
       " 11952,\n",
       " 11953,\n",
       " 11954,\n",
       " 11955,\n",
       " 11956,\n",
       " 11957,\n",
       " 11958,\n",
       " 11959,\n",
       " 11960,\n",
       " 11961,\n",
       " 11962,\n",
       " 11963,\n",
       " 11964,\n",
       " 11965,\n",
       " 11966,\n",
       " 11967,\n",
       " 11968,\n",
       " 11969,\n",
       " 11970,\n",
       " 11971,\n",
       " 11972,\n",
       " 11973,\n",
       " 11974,\n",
       " 11975,\n",
       " 11976,\n",
       " 11977,\n",
       " 11978,\n",
       " 11979,\n",
       " 11980,\n",
       " 11981,\n",
       " 11982,\n",
       " 11983,\n",
       " 11984,\n",
       " 11985,\n",
       " 11986,\n",
       " 11987,\n",
       " 11988,\n",
       " 11989,\n",
       " 11990,\n",
       " 11991,\n",
       " 11992,\n",
       " 11993,\n",
       " 11994,\n",
       " 11995,\n",
       " 11996,\n",
       " 11997,\n",
       " 11998,\n",
       " 11999,\n",
       " 12000,\n",
       " 12001,\n",
       " 12002,\n",
       " 12003,\n",
       " 12004,\n",
       " 12005,\n",
       " 12006,\n",
       " 12007,\n",
       " 12008,\n",
       " 12009,\n",
       " 12010,\n",
       " 12011,\n",
       " 12012,\n",
       " 12013,\n",
       " 12014,\n",
       " 12015,\n",
       " 12016,\n",
       " 12017,\n",
       " 12018,\n",
       " 12019,\n",
       " 12020,\n",
       " 12021,\n",
       " 12022,\n",
       " 12023,\n",
       " 12024,\n",
       " 12025,\n",
       " 12026,\n",
       " 12027,\n",
       " 12028,\n",
       " 12029,\n",
       " 12030,\n",
       " 12031,\n",
       " 12032,\n",
       " 12033,\n",
       " 12034,\n",
       " 12035,\n",
       " 12036,\n",
       " 12037,\n",
       " 12038,\n",
       " 12039,\n",
       " 12040,\n",
       " 12041,\n",
       " 12042,\n",
       " 12043,\n",
       " 12044,\n",
       " 12045,\n",
       " 12046,\n",
       " 12047,\n",
       " 12048,\n",
       " 12049,\n",
       " 12050,\n",
       " 12051,\n",
       " 12052,\n",
       " 12053,\n",
       " 12054,\n",
       " 12055,\n",
       " 12056,\n",
       " 12057,\n",
       " 12058,\n",
       " 12059,\n",
       " 12060,\n",
       " 12061,\n",
       " 12062,\n",
       " 12063,\n",
       " 12064,\n",
       " 12065,\n",
       " 12066,\n",
       " 12067,\n",
       " 12068,\n",
       " 12069,\n",
       " 12070,\n",
       " 12071,\n",
       " 12072,\n",
       " 12073,\n",
       " 12074,\n",
       " 12075,\n",
       " 12076,\n",
       " 12077,\n",
       " 12078,\n",
       " 12079,\n",
       " 12080,\n",
       " 12081,\n",
       " 12082,\n",
       " 12083,\n",
       " 12084,\n",
       " 12085,\n",
       " 12086,\n",
       " 12087,\n",
       " 12088,\n",
       " 12089,\n",
       " 12090,\n",
       " 12091,\n",
       " 12092,\n",
       " 12093,\n",
       " 12094,\n",
       " 12095,\n",
       " 12096,\n",
       " 12097,\n",
       " 12098,\n",
       " 12099,\n",
       " 12100,\n",
       " 12101,\n",
       " 12102,\n",
       " 12103,\n",
       " 12104,\n",
       " 12105,\n",
       " 12106,\n",
       " 12107,\n",
       " 12108,\n",
       " 12109,\n",
       " 12110,\n",
       " 12111,\n",
       " 12112,\n",
       " 12113,\n",
       " 12114,\n",
       " 12115,\n",
       " 12116,\n",
       " 12117,\n",
       " 12118,\n",
       " 12119,\n",
       " 12120,\n",
       " 12121,\n",
       " 12122,\n",
       " 12123,\n",
       " 12124,\n",
       " 12125,\n",
       " 12126,\n",
       " 12127,\n",
       " 12128,\n",
       " 12129,\n",
       " 12130,\n",
       " 12131,\n",
       " 12132,\n",
       " 12133,\n",
       " 12134,\n",
       " 12135,\n",
       " 12136,\n",
       " 12137,\n",
       " 12138,\n",
       " 12139,\n",
       " 12140,\n",
       " 12141,\n",
       " 12142,\n",
       " 12143,\n",
       " 12144,\n",
       " 12145,\n",
       " 12146,\n",
       " 12147,\n",
       " 12148,\n",
       " 12149,\n",
       " 12150,\n",
       " 12151,\n",
       " 12152,\n",
       " 12153,\n",
       " 12154,\n",
       " 12155,\n",
       " 12156,\n",
       " 12157,\n",
       " 12158,\n",
       " 12159,\n",
       " 12160,\n",
       " 12161,\n",
       " 12162,\n",
       " 12163,\n",
       " 12164,\n",
       " 12165,\n",
       " 12166,\n",
       " 12167,\n",
       " 12168,\n",
       " 12169,\n",
       " 12170,\n",
       " 12171,\n",
       " 12172,\n",
       " 12173,\n",
       " 12174,\n",
       " 12175,\n",
       " 12176,\n",
       " 12177,\n",
       " 12178,\n",
       " 12179,\n",
       " 12180,\n",
       " 12181,\n",
       " 12182,\n",
       " 12183,\n",
       " 12184,\n",
       " 12185,\n",
       " 12186,\n",
       " 12187,\n",
       " 12188,\n",
       " 12189,\n",
       " 12190,\n",
       " 12191,\n",
       " 12192,\n",
       " 12193,\n",
       " 12194,\n",
       " 12195,\n",
       " 12196,\n",
       " 12197,\n",
       " 12198,\n",
       " 12199,\n",
       " 12200,\n",
       " 12201,\n",
       " 12202,\n",
       " 12203,\n",
       " 12204,\n",
       " 12205,\n",
       " 12206,\n",
       " 12207,\n",
       " 12208,\n",
       " 12209,\n",
       " 12210,\n",
       " 12211,\n",
       " 12212,\n",
       " 12213,\n",
       " 12214,\n",
       " 12215,\n",
       " 12216,\n",
       " 12217,\n",
       " 12218,\n",
       " 12219,\n",
       " 12220,\n",
       " 12221,\n",
       " 12222,\n",
       " 12223,\n",
       " 12224,\n",
       " 12225,\n",
       " 12226,\n",
       " 12227,\n",
       " 12228,\n",
       " 12229,\n",
       " 12230,\n",
       " 12231,\n",
       " 12232,\n",
       " 12233,\n",
       " 12234,\n",
       " 12235,\n",
       " 12236,\n",
       " 12237,\n",
       " 12238,\n",
       " 12239,\n",
       " 12240,\n",
       " 12241,\n",
       " 12242,\n",
       " 12243,\n",
       " 12244,\n",
       " 12245,\n",
       " 12246,\n",
       " 12247,\n",
       " 12248,\n",
       " 12249,\n",
       " 12250,\n",
       " 12251,\n",
       " 12252,\n",
       " 12253,\n",
       " 12254,\n",
       " 12255,\n",
       " 12256,\n",
       " 12257,\n",
       " 12258,\n",
       " 12259,\n",
       " 12260,\n",
       " 12261,\n",
       " 12262,\n",
       " 12263,\n",
       " 12264,\n",
       " 12265,\n",
       " 12266,\n",
       " 12267,\n",
       " 12268,\n",
       " 12269,\n",
       " 12270,\n",
       " 12271,\n",
       " 12272,\n",
       " 12273,\n",
       " 12274,\n",
       " 12275,\n",
       " 12276,\n",
       " 12277,\n",
       " 12278,\n",
       " 12279,\n",
       " 12280,\n",
       " 12281,\n",
       " 12282,\n",
       " 12283,\n",
       " 12284,\n",
       " 12285,\n",
       " 12286,\n",
       " 12287,\n",
       " 12288,\n",
       " 12289,\n",
       " 12290,\n",
       " 12291,\n",
       " 12292,\n",
       " 12293,\n",
       " 12294,\n",
       " 12295,\n",
       " 12296,\n",
       " 12297,\n",
       " 12298,\n",
       " 12299,\n",
       " 12300,\n",
       " 12301,\n",
       " 12302,\n",
       " 12303,\n",
       " 12304,\n",
       " 12305,\n",
       " 12306,\n",
       " 12307,\n",
       " 12308,\n",
       " 12309,\n",
       " 12310,\n",
       " 12311,\n",
       " 12312,\n",
       " 12313,\n",
       " 12314,\n",
       " 12315,\n",
       " 12316,\n",
       " 12317,\n",
       " 12318,\n",
       " 12319,\n",
       " 12320,\n",
       " 12321,\n",
       " 12322,\n",
       " 12323,\n",
       " 12324,\n",
       " 12325,\n",
       " 12326,\n",
       " 12327,\n",
       " 12328,\n",
       " 12329,\n",
       " 12330,\n",
       " 12331,\n",
       " 12332,\n",
       " 12333,\n",
       " 12334,\n",
       " 12335,\n",
       " 12336,\n",
       " 12337,\n",
       " 12338,\n",
       " 12339,\n",
       " 12340,\n",
       " 12341,\n",
       " 12342,\n",
       " 12343,\n",
       " 12344,\n",
       " 12345,\n",
       " 12346,\n",
       " 12347,\n",
       " 12348,\n",
       " 12349,\n",
       " 12350,\n",
       " 12351,\n",
       " 12352,\n",
       " 12353,\n",
       " 12354,\n",
       " 12355,\n",
       " 12356,\n",
       " 12357,\n",
       " 12358,\n",
       " 12359,\n",
       " 12360,\n",
       " 12361,\n",
       " 12362,\n",
       " 12363,\n",
       " 12364,\n",
       " 12365,\n",
       " 12366,\n",
       " 12367,\n",
       " 12368,\n",
       " 12369,\n",
       " 12370,\n",
       " 12371,\n",
       " 12372,\n",
       " 12373,\n",
       " 12374,\n",
       " 12375,\n",
       " 12376,\n",
       " 12377,\n",
       " 12378,\n",
       " 12379,\n",
       " 12380,\n",
       " 12381,\n",
       " 12382,\n",
       " 12383,\n",
       " 12384,\n",
       " 12385,\n",
       " 12386,\n",
       " 12387,\n",
       " 12388,\n",
       " 12389,\n",
       " 12390,\n",
       " 12391,\n",
       " 12392,\n",
       " 12393,\n",
       " 12394,\n",
       " 12395,\n",
       " 12396,\n",
       " 12397,\n",
       " 12398,\n",
       " 12399,\n",
       " 12400,\n",
       " 12401,\n",
       " 12402,\n",
       " 12403,\n",
       " 12404,\n",
       " 12405,\n",
       " 12406,\n",
       " 12407,\n",
       " 12408,\n",
       " 12409,\n",
       " 12410,\n",
       " 12411,\n",
       " 12412,\n",
       " 12413,\n",
       " 12414,\n",
       " 12415,\n",
       " 12416,\n",
       " 12417,\n",
       " 12418,\n",
       " 12419,\n",
       " 12420,\n",
       " 12421,\n",
       " 12422,\n",
       " 12423,\n",
       " 12424,\n",
       " 12425,\n",
       " 12426,\n",
       " 12427,\n",
       " 12428,\n",
       " 12429,\n",
       " 12430,\n",
       " 12431,\n",
       " 12432,\n",
       " 12433,\n",
       " 12434,\n",
       " 12435,\n",
       " 12436,\n",
       " 12437,\n",
       " 12438,\n",
       " 12439,\n",
       " 12440,\n",
       " 12441,\n",
       " 12442,\n",
       " 12443,\n",
       " 12444,\n",
       " 12445,\n",
       " 12446,\n",
       " 12447,\n",
       " 12448,\n",
       " 12449,\n",
       " 12450,\n",
       " 12451,\n",
       " 12452,\n",
       " 12453,\n",
       " 12454,\n",
       " 12455,\n",
       " 12456,\n",
       " 12457,\n",
       " 12458,\n",
       " 12459,\n",
       " 12460,\n",
       " 12461,\n",
       " 12462,\n",
       " 12463,\n",
       " 12464,\n",
       " 12465,\n",
       " 12466,\n",
       " 12467,\n",
       " 12468,\n",
       " 12469,\n",
       " 12470,\n",
       " 12471,\n",
       " 12472,\n",
       " 12473,\n",
       " 12474,\n",
       " 12475,\n",
       " 12476,\n",
       " 12477,\n",
       " 12478,\n",
       " 12479,\n",
       " 12480,\n",
       " 12481,\n",
       " 12482,\n",
       " 12483,\n",
       " 12484,\n",
       " 12485,\n",
       " 12486,\n",
       " 12487,\n",
       " 12488,\n",
       " 12489,\n",
       " 12490,\n",
       " 12491,\n",
       " 12492,\n",
       " 12493,\n",
       " 12494,\n",
       " 12495,\n",
       " 12496,\n",
       " 12497,\n",
       " 12498,\n",
       " 12499,\n",
       " 12500,\n",
       " 12501,\n",
       " 12502,\n",
       " 12503,\n",
       " 12504,\n",
       " 12505,\n",
       " 12506,\n",
       " 12507,\n",
       " 12508,\n",
       " 12509,\n",
       " 12510,\n",
       " 12511,\n",
       " 12512,\n",
       " 12513,\n",
       " 12514,\n",
       " 12515,\n",
       " 12516,\n",
       " 12517,\n",
       " 12518,\n",
       " 12519,\n",
       " 12520,\n",
       " 12521,\n",
       " 12522,\n",
       " 12523,\n",
       " 12524,\n",
       " 12525,\n",
       " 12526,\n",
       " 12527,\n",
       " 12528,\n",
       " 12529,\n",
       " 12530,\n",
       " 12531,\n",
       " 12532,\n",
       " 12533,\n",
       " 12534,\n",
       " 12535,\n",
       " 12536,\n",
       " 12537,\n",
       " 12538,\n",
       " 12539,\n",
       " 12540,\n",
       " 12541,\n",
       " 12542,\n",
       " 12543,\n",
       " 12544,\n",
       " 12545,\n",
       " 12546,\n",
       " 12547,\n",
       " 12548,\n",
       " 12549,\n",
       " 12550,\n",
       " 12551,\n",
       " 12552,\n",
       " 12553,\n",
       " 12554,\n",
       " 12555,\n",
       " 12556,\n",
       " 12557,\n",
       " 12558,\n",
       " 12559,\n",
       " 12560,\n",
       " 12561,\n",
       " 12562,\n",
       " 12563,\n",
       " 12564,\n",
       " 12565,\n",
       " 12566,\n",
       " 12567,\n",
       " 12568,\n",
       " 12569,\n",
       " 12570,\n",
       " 12571,\n",
       " 12572,\n",
       " 12573,\n",
       " 12574,\n",
       " 12575,\n",
       " 12576,\n",
       " 12577,\n",
       " 12578,\n",
       " 12579,\n",
       " 12580,\n",
       " 12581,\n",
       " 12582,\n",
       " 12583,\n",
       " 12584,\n",
       " 12585,\n",
       " 12586,\n",
       " 12587,\n",
       " 12588,\n",
       " 12589,\n",
       " 12590,\n",
       " 12591,\n",
       " 12592,\n",
       " 12593,\n",
       " 12594,\n",
       " 12595,\n",
       " 12596,\n",
       " 12597,\n",
       " 12598,\n",
       " 12599,\n",
       " 12600,\n",
       " 12601,\n",
       " 12602,\n",
       " 12603,\n",
       " 12604,\n",
       " 12605,\n",
       " 12606,\n",
       " 12607,\n",
       " 12608,\n",
       " 12609,\n",
       " 12610,\n",
       " 12611,\n",
       " 12612,\n",
       " 12613,\n",
       " 12614,\n",
       " 12615,\n",
       " 12616,\n",
       " 12617,\n",
       " 12618,\n",
       " 12619,\n",
       " 12620,\n",
       " 12621,\n",
       " 12622,\n",
       " 12623,\n",
       " 12624,\n",
       " 12625,\n",
       " 12626,\n",
       " 12627,\n",
       " 12628,\n",
       " 12629,\n",
       " 12630,\n",
       " 12631,\n",
       " 12632,\n",
       " 12633,\n",
       " 12634,\n",
       " 12635,\n",
       " 12636,\n",
       " 12637,\n",
       " 12638,\n",
       " 12639,\n",
       " 12640,\n",
       " 12641,\n",
       " 12642,\n",
       " 12643,\n",
       " 12644,\n",
       " 12645,\n",
       " 12646,\n",
       " 12647,\n",
       " 12648,\n",
       " 12649,\n",
       " 12650,\n",
       " 12651,\n",
       " 12652,\n",
       " 12653,\n",
       " 12654,\n",
       " 12655,\n",
       " 12656,\n",
       " 12657,\n",
       " 12658,\n",
       " 12659,\n",
       " 12660,\n",
       " 12661,\n",
       " 12662,\n",
       " 12663,\n",
       " 12664,\n",
       " 12665,\n",
       " 12666,\n",
       " 12667,\n",
       " 12668,\n",
       " 12669,\n",
       " 12670,\n",
       " 12671,\n",
       " 12672,\n",
       " 12673,\n",
       " 12674,\n",
       " 12675,\n",
       " 12676,\n",
       " 12677,\n",
       " 12678,\n",
       " 12679,\n",
       " 12680,\n",
       " 12681,\n",
       " 12682,\n",
       " 12683,\n",
       " 12684,\n",
       " 12685,\n",
       " 12686,\n",
       " 12687,\n",
       " 12688,\n",
       " 12689,\n",
       " 12690,\n",
       " ...]"
      ]
     },
     "execution_count": 767,
     "metadata": {},
     "output_type": "execute_result"
    }
   ],
   "source": [
    "test_data\n",
    "pair_ids = test_data['pair_id'].tolist()\n",
    "pair_ids"
   ]
  },
  {
   "cell_type": "markdown",
   "metadata": {},
   "source": [
    "Подберите размер батча для обучения. Линейная модель не должна учиться дольше нескольких минут. \n",
    "\n",
    "Не забывайте использовать скейлер!"
   ]
  },
  {
   "cell_type": "code",
   "execution_count": 768,
   "metadata": {},
   "outputs": [],
   "source": [
    "from sklearn.metrics import f1_score\n",
    "from sklearn.linear_model import LinearRegression\n",
    "from sklearn.preprocessing import StandardScaler\n",
    "from sklearn.model_selection import cross_val_score\n",
    "import json\n",
    "from scipy.stats import shapiro\n",
    "import scipy.stats as ss\n",
    "from sklearn.model_selection import StratifiedKFold"
   ]
  },
  {
   "cell_type": "code",
   "execution_count": 769,
   "metadata": {},
   "outputs": [],
   "source": [
    "scaler = StandardScaler()\n",
    "X_train = scaler.fit_transform(X_train)\n",
    "X_test = scaler.fit_transform(X_test)"
   ]
  },
  {
   "cell_type": "markdown",
   "metadata": {},
   "source": [
    "# Подбор параметров для линейной регрессии"
   ]
  },
  {
   "cell_type": "markdown",
   "metadata": {},
   "source": [
    "Выбор размера батча"
   ]
  },
  {
   "cell_type": "code",
   "execution_count": 805,
   "metadata": {},
   "outputs": [],
   "source": [
    "np.random.seed(0)\n",
    "batches = (1, 5, 10, 20, 50, 100, 200, 500, 1000, 5000, 10000)\n",
    "scores = []\n",
    "for batch_size in batches:\n",
    "    model = MySGDClassifier(batch_generator, C=1000, alpha=0.01, model_type='lin_reg',\n",
    "                            max_epoch=2, batch_size=batch_size)\n",
    "    scores.append(cross_val_score(model, X_train, y_train, cv=5, scoring='f1').mean())"
   ]
  },
  {
   "cell_type": "code",
   "execution_count": 806,
   "metadata": {},
   "outputs": [
    {
     "data": {
      "text/plain": [
       "[0.4444045621417091,\n",
       " 0.4669265999247231,\n",
       " 0.4838125050473182,\n",
       " 0.4590764570244795,\n",
       " 0.45139167689492304,\n",
       " 0.45577464087398223,\n",
       " 0.4613422491018085,\n",
       " 0.4479900335297238,\n",
       " 0.4135716529471831,\n",
       " 0.43966136935872174,\n",
       " 0.46342794603083093]"
      ]
     },
     "execution_count": 806,
     "metadata": {},
     "output_type": "execute_result"
    }
   ],
   "source": [
    "scores"
   ]
  },
  {
   "cell_type": "code",
   "execution_count": 807,
   "metadata": {},
   "outputs": [
    {
     "data": {
      "text/plain": [
       "10"
      ]
     },
     "execution_count": 807,
     "metadata": {},
     "output_type": "execute_result"
    }
   ],
   "source": [
    "batch_size_lin = batches[np.argmax(scores)]\n",
    "batch_size_lin"
   ]
  },
  {
   "cell_type": "markdown",
   "metadata": {},
   "source": [
    "Подбор коэффициента для регуляризации"
   ]
  },
  {
   "cell_type": "code",
   "execution_count": 808,
   "metadata": {},
   "outputs": [],
   "source": [
    "np.random.seed(0)\n",
    "Сoefficients = (1, 5, 10, 20, 50, 100, 200, 500, 1000, 2000, 5000, 7500, 10000, 12500, 15000)\n",
    "scores = []\n",
    "for C in Сoefficients:\n",
    "    model = MySGDClassifier(batch_generator, C=C, alpha=0.01, model_type='lin_reg',\n",
    "                            max_epoch=2, batch_size=batch_size_lin)\n",
    "    scores.append(cross_val_score(model, X_train, y_train, cv=5, scoring='f1').mean())"
   ]
  },
  {
   "cell_type": "code",
   "execution_count": 809,
   "metadata": {},
   "outputs": [
    {
     "data": {
      "text/plain": [
       "[0.5041959841157764,\n",
       " 0.473584195762178,\n",
       " 0.4850279872848864,\n",
       " 0.4544279059141229,\n",
       " 0.456170312585371,\n",
       " 0.479999718674491,\n",
       " 0.45355828397060316,\n",
       " 0.44759495584501935,\n",
       " 0.4676694781294081,\n",
       " 0.46865051343917286,\n",
       " 0.47430250176405264,\n",
       " 0.471857741039455,\n",
       " 0.4752747942305377,\n",
       " 0.4779188541763352,\n",
       " 0.43449803702301726]"
      ]
     },
     "execution_count": 809,
     "metadata": {},
     "output_type": "execute_result"
    }
   ],
   "source": [
    "scores"
   ]
  },
  {
   "cell_type": "code",
   "execution_count": 810,
   "metadata": {},
   "outputs": [
    {
     "data": {
      "text/plain": [
       "1"
      ]
     },
     "execution_count": 810,
     "metadata": {},
     "output_type": "execute_result"
    }
   ],
   "source": [
    "C_lin = Сoefficients[np.argmax(scores)]\n",
    "C_lin"
   ]
  },
  {
   "cell_type": "markdown",
   "metadata": {},
   "source": [
    "Подбор коэффициента для шага градиентного спуска"
   ]
  },
  {
   "cell_type": "code",
   "execution_count": 776,
   "metadata": {},
   "outputs": [],
   "source": [
    "np.random.seed(0)\n",
    "alphas = (0.0001, 0.0005, 0.001, 0.0025, 0.005, 0.01, 0.05)\n",
    "scores = []\n",
    "for alpha in alphas:\n",
    "    model = MySGDClassifier(batch_generator, C=C_lin, alpha=alpha, model_type='lin_reg',\n",
    "                            max_epoch=2, batch_size=batch_size_lin)\n",
    "    scores.append(cross_val_score(model, X_train, y_train, cv=5, scoring='f1').mean())"
   ]
  },
  {
   "cell_type": "code",
   "execution_count": 777,
   "metadata": {},
   "outputs": [
    {
     "data": {
      "text/plain": [
       "[0.4887367538046526,\n",
       " 0.5041038399581206,\n",
       " 0.5037625348352992,\n",
       " 0.5021921300207028,\n",
       " 0.4997350771986544,\n",
       " 0.5224077860859528,\n",
       " 0.3833328316671866]"
      ]
     },
     "execution_count": 777,
     "metadata": {},
     "output_type": "execute_result"
    }
   ],
   "source": [
    "scores"
   ]
  },
  {
   "cell_type": "code",
   "execution_count": 778,
   "metadata": {},
   "outputs": [
    {
     "data": {
      "text/plain": [
       "0.01"
      ]
     },
     "execution_count": 778,
     "metadata": {},
     "output_type": "execute_result"
    }
   ],
   "source": [
    "alpha_lin = alphas[np.argmax(scores)]\n",
    "alpha_lin"
   ]
  },
  {
   "cell_type": "markdown",
   "metadata": {},
   "source": [
    "Подбор количества эпох для обучения"
   ]
  },
  {
   "cell_type": "code",
   "execution_count": 779,
   "metadata": {},
   "outputs": [],
   "source": [
    "np.random.seed(0)\n",
    "epochs = (1, 2, 3, 4, 5, 6, 7, 8, 9, 10, 15, 20, 25)\n",
    "scores = []\n",
    "for epoch in epochs:\n",
    "    model = MySGDClassifier(batch_generator, C=C_lin, alpha=alpha_lin, model_type='lin_reg',\n",
    "                            max_epoch=epoch, batch_size=batch_size_lin)\n",
    "    scores.append(cross_val_score(model, X_train, y_train, cv=5, scoring='f1').mean())"
   ]
  },
  {
   "cell_type": "code",
   "execution_count": 780,
   "metadata": {},
   "outputs": [
    {
     "data": {
      "text/plain": [
       "[0.5036859197540687,\n",
       " 0.4744725052042318,\n",
       " 0.5282304574185416,\n",
       " 0.5140820158479545,\n",
       " 0.47419611967617203,\n",
       " 0.4814301116525771,\n",
       " 0.5038644006199348,\n",
       " 0.4924153270296966,\n",
       " 0.5205155944727113,\n",
       " 0.5334029801928344,\n",
       " 0.5168067296362203,\n",
       " 0.5428749719039312,\n",
       " 0.4850654198839264]"
      ]
     },
     "execution_count": 780,
     "metadata": {},
     "output_type": "execute_result"
    }
   ],
   "source": [
    "scores"
   ]
  },
  {
   "cell_type": "code",
   "execution_count": 781,
   "metadata": {},
   "outputs": [
    {
     "data": {
      "text/plain": [
       "20"
      ]
     },
     "execution_count": 781,
     "metadata": {},
     "output_type": "execute_result"
    }
   ],
   "source": [
    "max_epoch_lin = epochs[np.argmax(scores)]\n",
    "max_epoch_lin"
   ]
  },
  {
   "cell_type": "markdown",
   "metadata": {},
   "source": [
    "# Подбор параметров для логистической регрессии"
   ]
  },
  {
   "cell_type": "markdown",
   "metadata": {},
   "source": [
    "Выбор размера батча"
   ]
  },
  {
   "cell_type": "code",
   "execution_count": 782,
   "metadata": {},
   "outputs": [],
   "source": [
    "np.random.seed(0)\n",
    "batches = (1, 5, 10, 20, 50, 60, 100, 200, 500, 1000, 5000, 10000)\n",
    "scores = []\n",
    "for batch_size in batches:\n",
    "    model = MySGDClassifier(batch_generator, C=1000, alpha=0.01, model_type='log_reg',\n",
    "                            max_epoch=2, batch_size=batch_size)\n",
    "    scores.append(cross_val_score(model, X_train, y_train, cv=5, scoring='f1').mean())"
   ]
  },
  {
   "cell_type": "code",
   "execution_count": 783,
   "metadata": {},
   "outputs": [
    {
     "data": {
      "text/plain": [
       "[0.5321964513908876,\n",
       " 0.5108365357665964,\n",
       " 0.532929524673617,\n",
       " 0.5521239952014498,\n",
       " 0.5813907673824794,\n",
       " 0.5756735917610178,\n",
       " 0.5632778994331826,\n",
       " 0.5231240267102534,\n",
       " 0.3647215853543464,\n",
       " 0.4867972913469173,\n",
       " 0.47996198302856535,\n",
       " 0.4063600305298042]"
      ]
     },
     "execution_count": 783,
     "metadata": {},
     "output_type": "execute_result"
    }
   ],
   "source": [
    "scores"
   ]
  },
  {
   "cell_type": "code",
   "execution_count": 784,
   "metadata": {},
   "outputs": [
    {
     "data": {
      "text/plain": [
       "50"
      ]
     },
     "execution_count": 784,
     "metadata": {},
     "output_type": "execute_result"
    }
   ],
   "source": [
    "batch_size_log = batches[np.argmax(scores)]\n",
    "batch_size_log"
   ]
  },
  {
   "cell_type": "markdown",
   "metadata": {},
   "source": [
    "Подбор коэффициента для регуляризации"
   ]
  },
  {
   "cell_type": "code",
   "execution_count": 785,
   "metadata": {},
   "outputs": [],
   "source": [
    "np.random.seed(0)\n",
    "Сoefficients = (5, 10, 25, 50, 75, 100, 200, 500, 1000, 2000, 5000, 6000, 7500, 9000, 10000, 12500, 15000)\n",
    "scores = []\n",
    "for C in Сoefficients:\n",
    "    model = MySGDClassifier(batch_generator, C=C, alpha=0.01, model_type='log_reg',\n",
    "                            max_epoch=2, batch_size=batch_size_log)\n",
    "    scores.append(cross_val_score(model, X_train, y_train, cv=5, scoring='f1').mean())"
   ]
  },
  {
   "cell_type": "code",
   "execution_count": 786,
   "metadata": {},
   "outputs": [
    {
     "data": {
      "text/plain": [
       "[0.6024775163149834,\n",
       " 0.5893690353743303,\n",
       " 0.5860289092716597,\n",
       " 0.5720124034714816,\n",
       " 0.5822957103346558,\n",
       " 0.5803795068940085,\n",
       " 0.5856380023134147,\n",
       " 0.5468728058783161,\n",
       " 0.5728246673375692,\n",
       " 0.59152528053332,\n",
       " 0.5814910438621558,\n",
       " 0.5850463298416472,\n",
       " 0.5835025834761753,\n",
       " 0.5665535827028324,\n",
       " 0.5692674130707236,\n",
       " 0.5985240163124408,\n",
       " 0.5617145329319804]"
      ]
     },
     "execution_count": 786,
     "metadata": {},
     "output_type": "execute_result"
    }
   ],
   "source": [
    "scores"
   ]
  },
  {
   "cell_type": "code",
   "execution_count": 787,
   "metadata": {},
   "outputs": [
    {
     "data": {
      "text/plain": [
       "5"
      ]
     },
     "execution_count": 787,
     "metadata": {},
     "output_type": "execute_result"
    }
   ],
   "source": [
    "C_log = Сoefficients[np.argmax(scores)]\n",
    "C_log"
   ]
  },
  {
   "cell_type": "markdown",
   "metadata": {},
   "source": [
    "Подбор коэффициента для шага градиентного спуска"
   ]
  },
  {
   "cell_type": "code",
   "execution_count": 788,
   "metadata": {},
   "outputs": [],
   "source": [
    "np.random.seed(0)\n",
    "alphas = (0.0001, 0.0005, 0.001, 0.0025, 0.003, 0.004, 0.0045, 0.005, 0.006, 0.007, 0.01, 0.05, 0.1)\n",
    "scores = []\n",
    "for alpha in alphas:\n",
    "    model = MySGDClassifier(batch_generator, C=C_log, alpha=alpha, model_type='log_reg',\n",
    "                            max_epoch=2, batch_size=batch_size_log)\n",
    "    scores.append(cross_val_score(model, X_train, y_train, cv=5, scoring='f1').mean())"
   ]
  },
  {
   "cell_type": "code",
   "execution_count": 789,
   "metadata": {},
   "outputs": [
    {
     "data": {
      "text/plain": [
       "[0.46060564218214745,\n",
       " 0.2501770967939961,\n",
       " 0.5478248241993703,\n",
       " 0.5656812880923087,\n",
       " 0.5898342261780499,\n",
       " 0.5930093396201845,\n",
       " 0.5909472946246849,\n",
       " 0.5889086347042396,\n",
       " 0.6042810324487948,\n",
       " 0.6071768769959702,\n",
       " 0.6041775074130805,\n",
       " 0.6032482472929932,\n",
       " 0.6089687464924439]"
      ]
     },
     "execution_count": 789,
     "metadata": {},
     "output_type": "execute_result"
    }
   ],
   "source": [
    "scores"
   ]
  },
  {
   "cell_type": "code",
   "execution_count": 790,
   "metadata": {},
   "outputs": [
    {
     "data": {
      "text/plain": [
       "0.1"
      ]
     },
     "execution_count": 790,
     "metadata": {},
     "output_type": "execute_result"
    }
   ],
   "source": [
    "alpha_log = alphas[np.argmax(scores)]\n",
    "alpha_log"
   ]
  },
  {
   "cell_type": "markdown",
   "metadata": {},
   "source": [
    "Подбор количества эпох для обучения"
   ]
  },
  {
   "cell_type": "code",
   "execution_count": 791,
   "metadata": {},
   "outputs": [],
   "source": [
    "np.random.seed(0)\n",
    "epochs = (1, 2, 3, 4, 5, 6, 7, 8, 9, 10, 15, 20, 25)\n",
    "scores = []\n",
    "for epoch in epochs:\n",
    "    model = MySGDClassifier(batch_generator, C=C_log, alpha=alpha_log, model_type='log_reg',\n",
    "                            max_epoch=epoch, batch_size=batch_size_log)\n",
    "    scores.append(cross_val_score(model, X_train, y_train, cv=5, scoring='f1').mean())"
   ]
  },
  {
   "cell_type": "code",
   "execution_count": 792,
   "metadata": {},
   "outputs": [
    {
     "data": {
      "text/plain": [
       "[0.6017786005246142,\n",
       " 0.5863764801326947,\n",
       " 0.6050196194777943,\n",
       " 0.48824816895830664,\n",
       " 0.5833729678234822,\n",
       " 0.5271535924372266,\n",
       " 0.48762455979563113,\n",
       " 0.4974753386956629,\n",
       " 0.6063753954090672,\n",
       " 0.6081676277884542,\n",
       " 0.6076696264534907,\n",
       " 0.6026073597040877,\n",
       " 0.4739341144554978]"
      ]
     },
     "execution_count": 792,
     "metadata": {},
     "output_type": "execute_result"
    }
   ],
   "source": [
    "scores"
   ]
  },
  {
   "cell_type": "code",
   "execution_count": 793,
   "metadata": {},
   "outputs": [
    {
     "data": {
      "text/plain": [
       "10"
      ]
     },
     "execution_count": 793,
     "metadata": {},
     "output_type": "execute_result"
    }
   ],
   "source": [
    "max_epoch_log = epochs[np.argmax(scores)]\n",
    "max_epoch_log"
   ]
  },
  {
   "cell_type": "markdown",
   "metadata": {},
   "source": [
    "Разбейте данные на обучение и валидацию. Подберите параметры C, alpha, max_epoch, model_type на валидации (Вы же помните, как правильно в этой задаче делать валидацию?)"
   ]
  },
  {
   "cell_type": "markdown",
   "metadata": {
    "collapsed": true
   },
   "source": [
    "Выбор модели"
   ]
  },
  {
   "cell_type": "code",
   "execution_count": 794,
   "metadata": {},
   "outputs": [
    {
     "data": {
      "text/plain": [
       "0.48551095973644187"
      ]
     },
     "execution_count": 794,
     "metadata": {},
     "output_type": "execute_result"
    }
   ],
   "source": [
    "np.random.seed(0)\n",
    "lin = MySGDClassifier(batch_generator, C=C_lin, alpha=alpha_lin, model_type='lin_reg',\n",
    "                      max_epoch=max_epoch_lin, batch_size=batch_size_lin)\n",
    "score_lin = cross_val_score(lin, X_train, y_train, cv=5, scoring='f1').mean()\n",
    "score_lin"
   ]
  },
  {
   "cell_type": "code",
   "execution_count": 795,
   "metadata": {},
   "outputs": [
    {
     "data": {
      "text/plain": [
       "0.6054813828250175"
      ]
     },
     "execution_count": 795,
     "metadata": {},
     "output_type": "execute_result"
    }
   ],
   "source": [
    "np.random.seed(0)\n",
    "log = MySGDClassifier(batch_generator, C=C_log, alpha=alpha_log, model_type='log_reg',\n",
    "                      max_epoch=max_epoch_log, batch_size=batch_size_log)\n",
    "score_log = cross_val_score(log, X_train, y_train, cv=5, scoring='f1').mean()\n",
    "score_log"
   ]
  },
  {
   "cell_type": "code",
   "execution_count": 796,
   "metadata": {},
   "outputs": [],
   "source": [
    "if (score_log > score_lin):\n",
    "    model_type, C, alpha, max_epoch, batch_size = 'log_reg', C_log, alpha_log, max_epoch_log, batch_size_log\n",
    "else:\n",
    "    model_type, C, alpha, max_epoch, batch_size = 'lin_reg', C_lin, alpha_lin, max_epoch_lin, batch_size_lin"
   ]
  },
  {
   "cell_type": "markdown",
   "metadata": {
    "collapsed": true
   },
   "source": [
    "Подберите порог линейной модели, по достижении которого, Вы будете относить объект к классу 1. Вспомните, какую метрику мы оптимизируем в соревновании.  Как тогда правильно подобрать порог?"
   ]
  },
  {
   "cell_type": "code",
   "execution_count": 797,
   "metadata": {},
   "outputs": [],
   "source": [
    "np.random.seed(0)\n",
    "thresholds = (0.1, 0.2, 0.3, 0.35, 0.4, 0.45, 0.5, 0.55, 0.6, 0.65, 0.7)\n",
    "scores = []\n",
    "for threshold in thresholds:\n",
    "    model = MySGDClassifier(batch_generator, C=C, alpha=alpha, model_type=model_type,\n",
    "                            max_epoch=max_epoch, batch_size=batch_size, threshold=threshold)\n",
    "    scores.append(cross_val_score(model, X_train, y_train, cv=5, scoring='f1').mean())"
   ]
  },
  {
   "cell_type": "code",
   "execution_count": 798,
   "metadata": {},
   "outputs": [
    {
     "data": {
      "text/plain": [
       "[0.4466148154441466,\n",
       " 0.49085116801903705,\n",
       " 0.5281946688490929,\n",
       " 0.5769814265187042,\n",
       " 0.6129493826123648,\n",
       " 0.6160088548756696,\n",
       " 0.6065926571359512,\n",
       " 0.4538045323517019,\n",
       " 0.5466399667663128,\n",
       " 0.45225585388109824,\n",
       " 0.37386724204499916]"
      ]
     },
     "execution_count": 798,
     "metadata": {},
     "output_type": "execute_result"
    }
   ],
   "source": [
    "scores"
   ]
  },
  {
   "cell_type": "code",
   "execution_count": 799,
   "metadata": {},
   "outputs": [
    {
     "data": {
      "text/plain": [
       "0.45"
      ]
     },
     "execution_count": 799,
     "metadata": {},
     "output_type": "execute_result"
    }
   ],
   "source": [
    "threshold = thresholds[np.argmax(scores)]\n",
    "threshold"
   ]
  },
  {
   "cell_type": "markdown",
   "metadata": {},
   "source": [
    "С лучшими параметрами на валидации сделайте предсказание на тестовом множестве, отправьте его на проверку на платформу kaggle. Убедитесь, что Вы смогли побить public score первого бейзлайна."
   ]
  },
  {
   "cell_type": "code",
   "execution_count": 800,
   "metadata": {},
   "outputs": [
    {
     "data": {
      "text/plain": [
       "array([0, 1, 1, ..., 1, 1, 1])"
      ]
     },
     "execution_count": 800,
     "metadata": {},
     "output_type": "execute_result"
    }
   ],
   "source": [
    "model = MySGDClassifier(batch_generator, C=C, alpha=alpha, model_type=model_type,\n",
    "                        max_epoch=max_epoch, batch_size=batch_size, threshold=threshold)\n",
    "model.fit(X_train, y_train)\n",
    "y_test = model.predict(X_test)\n",
    "y_test"
   ]
  },
  {
   "cell_type": "code",
   "execution_count": 801,
   "metadata": {},
   "outputs": [],
   "source": [
    "model = MySGDClassifier(batch_generator, C=C, alpha=alpha, model_type=model_type,\n",
    "                        max_epoch=max_epoch, batch_size=batch_size, threshold=threshold)\n",
    "score = cross_val_score(model, X_train, y_train, cv=10, scoring='f1')"
   ]
  },
  {
   "cell_type": "code",
   "execution_count": 802,
   "metadata": {},
   "outputs": [
    {
     "data": {
      "text/plain": [
       "array([0.43543544, 0.64285714, 0.59766764, 0.6518724 , 0.65769806,\n",
       "       0.6124031 , 0.53926702, 0.6143617 , 0.71214188, 0.66751918])"
      ]
     },
     "execution_count": 802,
     "metadata": {},
     "output_type": "execute_result"
    }
   ],
   "source": [
    "score"
   ]
  },
  {
   "cell_type": "code",
   "execution_count": 803,
   "metadata": {},
   "outputs": [
    {
     "data": {
      "text/plain": [
       "0.6131223555892233"
      ]
     },
     "execution_count": 803,
     "metadata": {},
     "output_type": "execute_result"
    }
   ],
   "source": [
    "score.mean()"
   ]
  },
  {
   "cell_type": "code",
   "execution_count": 804,
   "metadata": {},
   "outputs": [],
   "source": [
    "with open(\"resultBest.csv\", \"w\", encoding='utf-8') as outfile:\n",
    "    outfile.write(str(\"pair_id,target\\n\"))\n",
    "    for i in range(len(y_test)):\n",
    "        outfile.write(str(pair_ids[i]) + str(\",\") + str(y_test[i]) + str(\"\\n\"))"
   ]
  },
  {
   "cell_type": "markdown",
   "metadata": {
    "collapsed": true
   },
   "source": [
    "** При сдаче домашки Вам необходимо кроме ссылки на ноутбук показать Ваш ник на kaggle, под которым Вы залили решение, которое побило Handmade baseline. **"
   ]
  },
  {
   "cell_type": "markdown",
   "metadata": {},
   "source": [
    "# Фидбек (бесценно)"
   ]
  },
  {
   "cell_type": "markdown",
   "metadata": {},
   "source": [
    "* Какие аспекты обучения линейных моделей Вам показались непонятными? Какое место стоит дополнительно объяснить?"
   ]
  },
  {
   "cell_type": "markdown",
   "metadata": {},
   "source": [
    "***Ваше ответ здесь***"
   ]
  },
  {
   "cell_type": "markdown",
   "metadata": {},
   "source": [
    "* Здесь Вы можете оставить отзыв о этой домашней работе или о всем курсе.   "
   ]
  },
  {
   "cell_type": "markdown",
   "metadata": {},
   "source": [
    "*** ВАШ ОТЗЫВ ЗДЕСЬ***"
   ]
  },
  {
   "cell_type": "code",
   "execution_count": null,
   "metadata": {
    "collapsed": true
   },
   "outputs": [],
   "source": []
  },
  {
   "cell_type": "code",
   "execution_count": null,
   "metadata": {
    "collapsed": true
   },
   "outputs": [],
   "source": []
  }
 ],
 "metadata": {
  "anaconda-cloud": {},
  "kernelspec": {
   "display_name": "Python 3.7.0 64-bit",
   "language": "python",
   "name": "python37064bit57b9abd1fbb540b9b129d58852a9e95f"
  },
  "language_info": {
   "codemirror_mode": {
    "name": "ipython",
    "version": 3
   },
   "file_extension": ".py",
   "mimetype": "text/x-python",
   "name": "python",
   "nbconvert_exporter": "python",
   "pygments_lexer": "ipython3",
   "version": "3.7.0"
  },
  "nav_menu": {},
  "toc": {
   "colors": {
    "hover_highlight": "#DAA520",
    "navigate_num": "#000000",
    "navigate_text": "#333333",
    "running_highlight": "#FF0000",
    "selected_highlight": "#FFD700",
    "sidebar_border": "#EEEEEE",
    "wrapper_background": "#FFFFFF"
   },
   "moveMenuLeft": true,
   "nav_menu": {
    "height": "402px",
    "width": "253px"
   },
   "navigate_menu": true,
   "number_sections": false,
   "sideBar": true,
   "threshold": 4,
   "toc_cell": false,
   "toc_section_display": "block",
   "toc_window_display": true,
   "widenNotebook": false
  }
 },
 "nbformat": 4,
 "nbformat_minor": 2
}
